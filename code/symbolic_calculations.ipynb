{
 "cells": [
  {
   "cell_type": "markdown",
   "metadata": {},
   "source": [
    "# Symbolic Calculation of Optimal Ribosomal Allocation\n",
    "(c) This work is licensed under a Creative Commons Attribution License CC-BY 4.0. All code contained herein is licensed under an MIT license\n",
    "\n"
   ]
  },
  {
   "cell_type": "code",
   "execution_count": 1,
   "metadata": {},
   "outputs": [],
   "source": [
    "import sympy as sp"
   ]
  },
  {
   "cell_type": "markdown",
   "metadata": {},
   "source": [
    "In the main text of this work, we present analytical solutions for the steady-state growth rate and potential ribosomal allocations as functions of the simple model parameters. While we drive almost all of these explicitly in the Supplementary Text, we state that the optimal allocation towards ribosomes was computed through differentiation of a complex function. Here, we perform this calculation symbolically to yield an identical result as Eq. S30 of the supplemental text.\n",
    "\n",
    "\n",
    "We begin by definiting the necessary symbols we will use in [SymPy](https://www.sympy.org/en/index.html), the symbolic computing library for Python."
   ]
  },
  {
   "cell_type": "code",
   "execution_count": 2,
   "metadata": {},
   "outputs": [],
   "source": [
    "# Define symbols\n",
    "gamma_max = sp.Symbol(r'{{\\gamma_{max}}}') # Translation rate\n",
    "nu_max = sp.Symbol(r'{{\\nu_{max}}}') # Maximal metabolic rate\n",
    "phi_Rb = sp.Symbol(r'{{\\phi_R}}') # Allocation towards ribosomes\n",
    "phi_O = sp.Symbol(r'{{\\phi_O}}') # Allocation towards other proteins\n",
    "K_M = sp.Symbol(r'{{K_M^{c_{pc}}}}')  # Michaelis-Menten constant for translatio\n",
    "cpc = sp.Symbol(r'{{c_{pc}}}') # Concentration of precursors"
   ]
  },
  {
   "cell_type": "markdown",
   "metadata": {},
   "source": [
    "We can now define the necessary equations. Specifically, we define here the equation defined in Eq. S24,\n",
    "including the short-hand notation for the maximal metabolic output $\\mathsf{N}$ and maximal translational outpu $\\Gamma$."
   ]
  },
  {
   "cell_type": "code",
   "execution_count": 3,
   "metadata": {},
   "outputs": [
    {
     "data": {
      "text/latex": [
       "$\\displaystyle \\frac{- {{\\gamma_{max}}} {{\\phi_R}} - {{\\nu_{max}}} \\left(- {{\\phi_O}} - {{\\phi_R}} + 1\\right) + \\sqrt{- {{\\gamma_{max}}} {{\\nu_{max}}} {{\\phi_R}} \\left(4 - 4 {{K_M^{c_{pc}}}}\\right) \\left(- {{\\phi_O}} - {{\\phi_R}} + 1\\right) + \\left({{\\gamma_{max}}} {{\\phi_R}} + {{\\nu_{max}}} \\left(- {{\\phi_O}} - {{\\phi_R}} + 1\\right)\\right)^{2}}}{2 - 2 {{K_M^{c_{pc}}}}}$"
      ],
      "text/plain": [
       "(-{{\\gamma_{max}}}*{{\\phi_R}} - {{\\nu_{max}}}*(-{{\\phi_O}} - {{\\phi_R}} + 1) + sqrt(-{{\\gamma_{max}}}*{{\\nu_{max}}}*{{\\phi_R}}*(4 - 4*{{K_M^{c_{pc}}}})*(-{{\\phi_O}} - {{\\phi_R}} + 1) + ({{\\gamma_{max}}}*{{\\phi_R}} + {{\\nu_{max}}}*(-{{\\phi_O}} - {{\\phi_R}} + 1))**2))/(2 - 2*{{K_M^{c_{pc}}}})"
      ]
     },
     "execution_count": 3,
     "metadata": {},
     "output_type": "execute_result"
    }
   ],
   "source": [
    "# Define the metbolic outputs\n",
    "Nu = nu_max * (1 - phi_O - phi_Rb);\n",
    "Gamma = gamma_max * phi_Rb;\n",
    "\n",
    "# Define the equation for the steady-state growth rate piecewise using the \n",
    "# quadratic form, Eq. S22.\n",
    "a =  (1 - K_M)\n",
    "b = Nu + Gamma\n",
    "c = Nu * Gamma\n",
    "lam = (-b + sp.sqrt(b**2 - 4 * a * c)) / (2 * a)\n",
    "lam\n",
    "\n",
    "\n"
   ]
  },
  {
   "cell_type": "markdown",
   "metadata": {},
   "source": [
    "With the steady-state growth rate now defined, we can compute the derivative with respect to $\\phi_{Rb}$,"
   ]
  },
  {
   "cell_type": "code",
   "execution_count": 4,
   "metadata": {},
   "outputs": [
    {
     "data": {
      "text/latex": [
       "$\\displaystyle \\frac{- {{\\gamma_{max}}} + {{\\nu_{max}}} + \\frac{\\frac{{{\\gamma_{max}}} {{\\nu_{max}}} {{\\phi_R}} \\left(4 - 4 {{K_M^{c_{pc}}}}\\right)}{2} - \\frac{{{\\gamma_{max}}} {{\\nu_{max}}} \\left(4 - 4 {{K_M^{c_{pc}}}}\\right) \\left(- {{\\phi_O}} - {{\\phi_R}} + 1\\right)}{2} + \\frac{\\left(2 {{\\gamma_{max}}} - 2 {{\\nu_{max}}}\\right) \\left({{\\gamma_{max}}} {{\\phi_R}} + {{\\nu_{max}}} \\left(- {{\\phi_O}} - {{\\phi_R}} + 1\\right)\\right)}{2}}{\\sqrt{- {{\\gamma_{max}}} {{\\nu_{max}}} {{\\phi_R}} \\left(4 - 4 {{K_M^{c_{pc}}}}\\right) \\left(- {{\\phi_O}} - {{\\phi_R}} + 1\\right) + \\left({{\\gamma_{max}}} {{\\phi_R}} + {{\\nu_{max}}} \\left(- {{\\phi_O}} - {{\\phi_R}} + 1\\right)\\right)^{2}}}}{2 - 2 {{K_M^{c_{pc}}}}}$"
      ],
      "text/plain": [
       "(-{{\\gamma_{max}}} + {{\\nu_{max}}} + ({{\\gamma_{max}}}*{{\\nu_{max}}}*{{\\phi_R}}*(4 - 4*{{K_M^{c_{pc}}}})/2 - {{\\gamma_{max}}}*{{\\nu_{max}}}*(4 - 4*{{K_M^{c_{pc}}}})*(-{{\\phi_O}} - {{\\phi_R}} + 1)/2 + (2*{{\\gamma_{max}}} - 2*{{\\nu_{max}}})*({{\\gamma_{max}}}*{{\\phi_R}} + {{\\nu_{max}}}*(-{{\\phi_O}} - {{\\phi_R}} + 1))/2)/sqrt(-{{\\gamma_{max}}}*{{\\nu_{max}}}*{{\\phi_R}}*(4 - 4*{{K_M^{c_{pc}}}})*(-{{\\phi_O}} - {{\\phi_R}} + 1) + ({{\\gamma_{max}}}*{{\\phi_R}} + {{\\nu_{max}}}*(-{{\\phi_O}} - {{\\phi_R}} + 1))**2))/(2 - 2*{{K_M^{c_{pc}}}})"
      ]
     },
     "execution_count": 4,
     "metadata": {},
     "output_type": "execute_result"
    }
   ],
   "source": [
    "dlam_dphiRb = lam.diff(phi_Rb)\n",
    "dlam_dphiRb"
   ]
  },
  {
   "cell_type": "markdown",
   "metadata": {},
   "source": [
    "which is equivalent to Eq. S28 upon some manual rearrangement. We can now solve this derivative for the value of $\\phi_{Rb}$ when $\\tfrac{\\partial \\lambda}{\\partial \\phi_{Rb}} = 0$."
   ]
  },
  {
   "cell_type": "code",
   "execution_count": 5,
   "metadata": {},
   "outputs": [
    {
     "data": {
      "text/latex": [
       "$\\displaystyle \\frac{\\left({{\\phi_O}} - 1\\right) \\left(- {{\\nu_{max}}} \\left(- 2 {{K_M^{c_{pc}}}} {{\\gamma_{max}}} + {{\\gamma_{max}}} + {{\\nu_{max}}}\\right) + \\sqrt{{{K_M^{c_{pc}}}} {{\\gamma_{max}}} {{\\nu_{max}}}} \\left(- {{\\gamma_{max}}} + {{\\nu_{max}}}\\right)\\right)}{- 4 {{K_M^{c_{pc}}}} {{\\gamma_{max}}} {{\\nu_{max}}} + {{\\gamma_{max}}}^{2} + 2 {{\\gamma_{max}}} {{\\nu_{max}}} + {{\\nu_{max}}}^{2}}$"
      ],
      "text/plain": [
       "({{\\phi_O}} - 1)*(-{{\\nu_{max}}}*(-2*{{K_M^{c_{pc}}}}*{{\\gamma_{max}}} + {{\\gamma_{max}}} + {{\\nu_{max}}}) + sqrt({{K_M^{c_{pc}}}}*{{\\gamma_{max}}}*{{\\nu_{max}}})*(-{{\\gamma_{max}}} + {{\\nu_{max}}}))/(-4*{{K_M^{c_{pc}}}}*{{\\gamma_{max}}}*{{\\nu_{max}}} + {{\\gamma_{max}}}**2 + 2*{{\\gamma_{max}}}*{{\\nu_{max}}} + {{\\nu_{max}}}**2)"
      ]
     },
     "execution_count": 5,
     "metadata": {},
     "output_type": "execute_result"
    }
   ],
   "source": [
    "# Solve for the optimal phiRb\n",
    "opt_phiRb = sp.solve(dlam_dphiRb, phi_Rb)[0]\n",
    "opt_phiRb"
   ]
  },
  {
   "cell_type": "markdown",
   "metadata": {},
   "source": [
    "The above equation is idential to Eq. S30 upon some algebraic rearrangement."
   ]
  },
  {
   "cell_type": "markdown",
   "metadata": {},
   "source": [
    "\n",
    "#\n"
   ]
  },
  {
   "cell_type": "code",
   "execution_count": 26,
   "metadata": {},
   "outputs": [],
   "source": [
    "lam = sp.Symbol('\\lambda')\n",
    "\n",
    "Nu = nu_max * (1 - phi_O - phi_Rb)\n",
    "ss_cpc = -1 +  (Nu  / lam)\n",
    "gamma = gamma_max * (ss_cpc / (ss_cpc + K_M))\n",
    "J_Mb = Nu \n",
    "J_tl = gamma * phi_Rb * (1 + ss_cpc)\n",
    "dJ_tl = sp.diff(J_tl, phi_Rb)\n",
    "dJ_Mb = sp.diff(J_Mb, phi_Rb)"
   ]
  },
  {
   "cell_type": "code",
   "execution_count": 27,
   "metadata": {},
   "outputs": [],
   "source": [
    "soln = sp.solve(dJ_tl, phi_Rb)"
   ]
  },
  {
   "cell_type": "code",
   "execution_count": 29,
   "metadata": {},
   "outputs": [
    {
     "data": {
      "text/latex": [
       "$\\displaystyle \\frac{- 12 \\lambda^{2} {{K_M^{c_{pc}}}} + 12 \\lambda^{2} - 24 \\lambda {{K_M^{c_{pc}}}} {{\\nu_{max}}} {{\\phi_O}} + 24 \\lambda {{K_M^{c_{pc}}}} {{\\nu_{max}}} + 36 \\lambda {{\\nu_{max}}} {{\\phi_O}} - 36 \\lambda {{\\nu_{max}}} + 24 {{\\nu_{max}}}^{2} {{\\phi_O}}^{2} - 48 {{\\nu_{max}}}^{2} {{\\phi_O}} - {{\\nu_{max}}}^{2} \\left(\\frac{{{\\nu_{max}}}^{3} \\sqrt{\\frac{\\left(54 {{\\nu_{max}}} \\left(- \\lambda^{2} {{K_M^{c_{pc}}}} {{\\phi_O}} + \\lambda^{2} {{K_M^{c_{pc}}}} + \\lambda^{2} {{\\phi_O}} - \\lambda^{2} - \\lambda {{K_M^{c_{pc}}}} {{\\nu_{max}}} {{\\phi_O}}^{2} + 2 \\lambda {{K_M^{c_{pc}}}} {{\\nu_{max}}} {{\\phi_O}} - \\lambda {{K_M^{c_{pc}}}} {{\\nu_{max}}} + 2 \\lambda {{\\nu_{max}}} {{\\phi_O}}^{2} - 4 \\lambda {{\\nu_{max}}} {{\\phi_O}} + 2 \\lambda {{\\nu_{max}}} + {{\\nu_{max}}}^{2} {{\\phi_O}}^{3} - 3 {{\\nu_{max}}}^{2} {{\\phi_O}}^{2} + 3 {{\\nu_{max}}}^{2} {{\\phi_O}} - {{\\nu_{max}}}^{2}\\right) + \\left(- 3 \\lambda {{K_M^{c_{pc}}}} + 4 \\lambda + 5 {{\\nu_{max}}} {{\\phi_O}} - 5 {{\\nu_{max}}}\\right) \\left(18 \\lambda^{2} {{K_M^{c_{pc}}}} - 18 \\lambda^{2} + 36 \\lambda {{K_M^{c_{pc}}}} {{\\nu_{max}}} {{\\phi_O}} - 36 \\lambda {{K_M^{c_{pc}}}} {{\\nu_{max}}} - 54 \\lambda {{\\nu_{max}}} {{\\phi_O}} + 54 \\lambda {{\\nu_{max}}} - 36 {{\\nu_{max}}}^{2} {{\\phi_O}}^{2} + 72 {{\\nu_{max}}}^{2} {{\\phi_O}} - 36 {{\\nu_{max}}}^{2} + \\left(- 3 \\lambda {{K_M^{c_{pc}}}} + 4 \\lambda + 5 {{\\nu_{max}}} {{\\phi_O}} - 5 {{\\nu_{max}}}\\right)^{2}\\right)\\right)^{2} - \\left(12 \\lambda^{2} {{K_M^{c_{pc}}}} - 12 \\lambda^{2} + 24 \\lambda {{K_M^{c_{pc}}}} {{\\nu_{max}}} {{\\phi_O}} - 24 \\lambda {{K_M^{c_{pc}}}} {{\\nu_{max}}} - 36 \\lambda {{\\nu_{max}}} {{\\phi_O}} + 36 \\lambda {{\\nu_{max}}} - 24 {{\\nu_{max}}}^{2} {{\\phi_O}}^{2} + 48 {{\\nu_{max}}}^{2} {{\\phi_O}} - 24 {{\\nu_{max}}}^{2} + \\left(- 3 \\lambda {{K_M^{c_{pc}}}} + 4 \\lambda + 5 {{\\nu_{max}}} {{\\phi_O}} - 5 {{\\nu_{max}}}\\right)^{2}\\right)^{3}}{{{\\nu_{max}}}^{6}}} + 54 {{\\nu_{max}}} \\left(- \\lambda^{2} {{K_M^{c_{pc}}}} {{\\phi_O}} + \\lambda^{2} {{K_M^{c_{pc}}}} + \\lambda^{2} {{\\phi_O}} - \\lambda^{2} - \\lambda {{K_M^{c_{pc}}}} {{\\nu_{max}}} {{\\phi_O}}^{2} + 2 \\lambda {{K_M^{c_{pc}}}} {{\\nu_{max}}} {{\\phi_O}} - \\lambda {{K_M^{c_{pc}}}} {{\\nu_{max}}} + 2 \\lambda {{\\nu_{max}}} {{\\phi_O}}^{2} - 4 \\lambda {{\\nu_{max}}} {{\\phi_O}} + 2 \\lambda {{\\nu_{max}}} + {{\\nu_{max}}}^{2} {{\\phi_O}}^{3} - 3 {{\\nu_{max}}}^{2} {{\\phi_O}}^{2} + 3 {{\\nu_{max}}}^{2} {{\\phi_O}} - {{\\nu_{max}}}^{2}\\right) + \\left(3 \\lambda {{K_M^{c_{pc}}}} - 4 \\lambda - 5 {{\\nu_{max}}} {{\\phi_O}} + 5 {{\\nu_{max}}}\\right) \\left(- 18 \\lambda^{2} {{K_M^{c_{pc}}}} + 18 \\lambda^{2} - 36 \\lambda {{K_M^{c_{pc}}}} {{\\nu_{max}}} {{\\phi_O}} + 36 \\lambda {{K_M^{c_{pc}}}} {{\\nu_{max}}} + 54 \\lambda {{\\nu_{max}}} {{\\phi_O}} - 54 \\lambda {{\\nu_{max}}} + 36 {{\\nu_{max}}}^{2} {{\\phi_O}}^{2} - 72 {{\\nu_{max}}}^{2} {{\\phi_O}} + 36 {{\\nu_{max}}}^{2} - \\left(3 \\lambda {{K_M^{c_{pc}}}} - 4 \\lambda - 5 {{\\nu_{max}}} {{\\phi_O}} + 5 {{\\nu_{max}}}\\right)^{2}\\right)}{{{\\nu_{max}}}^{3}}\\right)^{\\frac{2}{3}} + 24 {{\\nu_{max}}}^{2} + {{\\nu_{max}}} \\sqrt[3]{\\frac{{{\\nu_{max}}}^{3} \\sqrt{\\frac{\\left(54 {{\\nu_{max}}} \\left(- \\lambda^{2} {{K_M^{c_{pc}}}} {{\\phi_O}} + \\lambda^{2} {{K_M^{c_{pc}}}} + \\lambda^{2} {{\\phi_O}} - \\lambda^{2} - \\lambda {{K_M^{c_{pc}}}} {{\\nu_{max}}} {{\\phi_O}}^{2} + 2 \\lambda {{K_M^{c_{pc}}}} {{\\nu_{max}}} {{\\phi_O}} - \\lambda {{K_M^{c_{pc}}}} {{\\nu_{max}}} + 2 \\lambda {{\\nu_{max}}} {{\\phi_O}}^{2} - 4 \\lambda {{\\nu_{max}}} {{\\phi_O}} + 2 \\lambda {{\\nu_{max}}} + {{\\nu_{max}}}^{2} {{\\phi_O}}^{3} - 3 {{\\nu_{max}}}^{2} {{\\phi_O}}^{2} + 3 {{\\nu_{max}}}^{2} {{\\phi_O}} - {{\\nu_{max}}}^{2}\\right) + \\left(- 3 \\lambda {{K_M^{c_{pc}}}} + 4 \\lambda + 5 {{\\nu_{max}}} {{\\phi_O}} - 5 {{\\nu_{max}}}\\right) \\left(18 \\lambda^{2} {{K_M^{c_{pc}}}} - 18 \\lambda^{2} + 36 \\lambda {{K_M^{c_{pc}}}} {{\\nu_{max}}} {{\\phi_O}} - 36 \\lambda {{K_M^{c_{pc}}}} {{\\nu_{max}}} - 54 \\lambda {{\\nu_{max}}} {{\\phi_O}} + 54 \\lambda {{\\nu_{max}}} - 36 {{\\nu_{max}}}^{2} {{\\phi_O}}^{2} + 72 {{\\nu_{max}}}^{2} {{\\phi_O}} - 36 {{\\nu_{max}}}^{2} + \\left(- 3 \\lambda {{K_M^{c_{pc}}}} + 4 \\lambda + 5 {{\\nu_{max}}} {{\\phi_O}} - 5 {{\\nu_{max}}}\\right)^{2}\\right)\\right)^{2} - \\left(12 \\lambda^{2} {{K_M^{c_{pc}}}} - 12 \\lambda^{2} + 24 \\lambda {{K_M^{c_{pc}}}} {{\\nu_{max}}} {{\\phi_O}} - 24 \\lambda {{K_M^{c_{pc}}}} {{\\nu_{max}}} - 36 \\lambda {{\\nu_{max}}} {{\\phi_O}} + 36 \\lambda {{\\nu_{max}}} - 24 {{\\nu_{max}}}^{2} {{\\phi_O}}^{2} + 48 {{\\nu_{max}}}^{2} {{\\phi_O}} - 24 {{\\nu_{max}}}^{2} + \\left(- 3 \\lambda {{K_M^{c_{pc}}}} + 4 \\lambda + 5 {{\\nu_{max}}} {{\\phi_O}} - 5 {{\\nu_{max}}}\\right)^{2}\\right)^{3}}{{{\\nu_{max}}}^{6}}} + 54 {{\\nu_{max}}} \\left(- \\lambda^{2} {{K_M^{c_{pc}}}} {{\\phi_O}} + \\lambda^{2} {{K_M^{c_{pc}}}} + \\lambda^{2} {{\\phi_O}} - \\lambda^{2} - \\lambda {{K_M^{c_{pc}}}} {{\\nu_{max}}} {{\\phi_O}}^{2} + 2 \\lambda {{K_M^{c_{pc}}}} {{\\nu_{max}}} {{\\phi_O}} - \\lambda {{K_M^{c_{pc}}}} {{\\nu_{max}}} + 2 \\lambda {{\\nu_{max}}} {{\\phi_O}}^{2} - 4 \\lambda {{\\nu_{max}}} {{\\phi_O}} + 2 \\lambda {{\\nu_{max}}} + {{\\nu_{max}}}^{2} {{\\phi_O}}^{3} - 3 {{\\nu_{max}}}^{2} {{\\phi_O}}^{2} + 3 {{\\nu_{max}}}^{2} {{\\phi_O}} - {{\\nu_{max}}}^{2}\\right) + \\left(3 \\lambda {{K_M^{c_{pc}}}} - 4 \\lambda - 5 {{\\nu_{max}}} {{\\phi_O}} + 5 {{\\nu_{max}}}\\right) \\left(- 18 \\lambda^{2} {{K_M^{c_{pc}}}} + 18 \\lambda^{2} - 36 \\lambda {{K_M^{c_{pc}}}} {{\\nu_{max}}} {{\\phi_O}} + 36 \\lambda {{K_M^{c_{pc}}}} {{\\nu_{max}}} + 54 \\lambda {{\\nu_{max}}} {{\\phi_O}} - 54 \\lambda {{\\nu_{max}}} + 36 {{\\nu_{max}}}^{2} {{\\phi_O}}^{2} - 72 {{\\nu_{max}}}^{2} {{\\phi_O}} + 36 {{\\nu_{max}}}^{2} - \\left(3 \\lambda {{K_M^{c_{pc}}}} - 4 \\lambda - 5 {{\\nu_{max}}} {{\\phi_O}} + 5 {{\\nu_{max}}}\\right)^{2}\\right)}{{{\\nu_{max}}}^{3}}} \\left(3 \\lambda {{K_M^{c_{pc}}}} - 4 \\lambda - 5 {{\\nu_{max}}} {{\\phi_O}} + 5 {{\\nu_{max}}}\\right) - \\left(3 \\lambda {{K_M^{c_{pc}}}} - 4 \\lambda - 5 {{\\nu_{max}}} {{\\phi_O}} + 5 {{\\nu_{max}}}\\right)^{2}}{6 {{\\nu_{max}}}^{2} \\sqrt[3]{\\frac{{{\\nu_{max}}}^{3} \\sqrt{\\frac{\\left(54 {{\\nu_{max}}} \\left(- \\lambda^{2} {{K_M^{c_{pc}}}} {{\\phi_O}} + \\lambda^{2} {{K_M^{c_{pc}}}} + \\lambda^{2} {{\\phi_O}} - \\lambda^{2} - \\lambda {{K_M^{c_{pc}}}} {{\\nu_{max}}} {{\\phi_O}}^{2} + 2 \\lambda {{K_M^{c_{pc}}}} {{\\nu_{max}}} {{\\phi_O}} - \\lambda {{K_M^{c_{pc}}}} {{\\nu_{max}}} + 2 \\lambda {{\\nu_{max}}} {{\\phi_O}}^{2} - 4 \\lambda {{\\nu_{max}}} {{\\phi_O}} + 2 \\lambda {{\\nu_{max}}} + {{\\nu_{max}}}^{2} {{\\phi_O}}^{3} - 3 {{\\nu_{max}}}^{2} {{\\phi_O}}^{2} + 3 {{\\nu_{max}}}^{2} {{\\phi_O}} - {{\\nu_{max}}}^{2}\\right) + \\left(- 3 \\lambda {{K_M^{c_{pc}}}} + 4 \\lambda + 5 {{\\nu_{max}}} {{\\phi_O}} - 5 {{\\nu_{max}}}\\right) \\left(18 \\lambda^{2} {{K_M^{c_{pc}}}} - 18 \\lambda^{2} + 36 \\lambda {{K_M^{c_{pc}}}} {{\\nu_{max}}} {{\\phi_O}} - 36 \\lambda {{K_M^{c_{pc}}}} {{\\nu_{max}}} - 54 \\lambda {{\\nu_{max}}} {{\\phi_O}} + 54 \\lambda {{\\nu_{max}}} - 36 {{\\nu_{max}}}^{2} {{\\phi_O}}^{2} + 72 {{\\nu_{max}}}^{2} {{\\phi_O}} - 36 {{\\nu_{max}}}^{2} + \\left(- 3 \\lambda {{K_M^{c_{pc}}}} + 4 \\lambda + 5 {{\\nu_{max}}} {{\\phi_O}} - 5 {{\\nu_{max}}}\\right)^{2}\\right)\\right)^{2} - \\left(12 \\lambda^{2} {{K_M^{c_{pc}}}} - 12 \\lambda^{2} + 24 \\lambda {{K_M^{c_{pc}}}} {{\\nu_{max}}} {{\\phi_O}} - 24 \\lambda {{K_M^{c_{pc}}}} {{\\nu_{max}}} - 36 \\lambda {{\\nu_{max}}} {{\\phi_O}} + 36 \\lambda {{\\nu_{max}}} - 24 {{\\nu_{max}}}^{2} {{\\phi_O}}^{2} + 48 {{\\nu_{max}}}^{2} {{\\phi_O}} - 24 {{\\nu_{max}}}^{2} + \\left(- 3 \\lambda {{K_M^{c_{pc}}}} + 4 \\lambda + 5 {{\\nu_{max}}} {{\\phi_O}} - 5 {{\\nu_{max}}}\\right)^{2}\\right)^{3}}{{{\\nu_{max}}}^{6}}} + 54 {{\\nu_{max}}} \\left(- \\lambda^{2} {{K_M^{c_{pc}}}} {{\\phi_O}} + \\lambda^{2} {{K_M^{c_{pc}}}} + \\lambda^{2} {{\\phi_O}} - \\lambda^{2} - \\lambda {{K_M^{c_{pc}}}} {{\\nu_{max}}} {{\\phi_O}}^{2} + 2 \\lambda {{K_M^{c_{pc}}}} {{\\nu_{max}}} {{\\phi_O}} - \\lambda {{K_M^{c_{pc}}}} {{\\nu_{max}}} + 2 \\lambda {{\\nu_{max}}} {{\\phi_O}}^{2} - 4 \\lambda {{\\nu_{max}}} {{\\phi_O}} + 2 \\lambda {{\\nu_{max}}} + {{\\nu_{max}}}^{2} {{\\phi_O}}^{3} - 3 {{\\nu_{max}}}^{2} {{\\phi_O}}^{2} + 3 {{\\nu_{max}}}^{2} {{\\phi_O}} - {{\\nu_{max}}}^{2}\\right) + \\left(3 \\lambda {{K_M^{c_{pc}}}} - 4 \\lambda - 5 {{\\nu_{max}}} {{\\phi_O}} + 5 {{\\nu_{max}}}\\right) \\left(- 18 \\lambda^{2} {{K_M^{c_{pc}}}} + 18 \\lambda^{2} - 36 \\lambda {{K_M^{c_{pc}}}} {{\\nu_{max}}} {{\\phi_O}} + 36 \\lambda {{K_M^{c_{pc}}}} {{\\nu_{max}}} + 54 \\lambda {{\\nu_{max}}} {{\\phi_O}} - 54 \\lambda {{\\nu_{max}}} + 36 {{\\nu_{max}}}^{2} {{\\phi_O}}^{2} - 72 {{\\nu_{max}}}^{2} {{\\phi_O}} + 36 {{\\nu_{max}}}^{2} - \\left(3 \\lambda {{K_M^{c_{pc}}}} - 4 \\lambda - 5 {{\\nu_{max}}} {{\\phi_O}} + 5 {{\\nu_{max}}}\\right)^{2}\\right)}{{{\\nu_{max}}}^{3}}}}$"
      ],
      "text/plain": [
       "(-12*\\lambda**2*{{K_M^{c_{pc}}}} + 12*\\lambda**2 - 24*\\lambda*{{K_M^{c_{pc}}}}*{{\\nu_{max}}}*{{\\phi_O}} + 24*\\lambda*{{K_M^{c_{pc}}}}*{{\\nu_{max}}} + 36*\\lambda*{{\\nu_{max}}}*{{\\phi_O}} - 36*\\lambda*{{\\nu_{max}}} + 24*{{\\nu_{max}}}**2*{{\\phi_O}}**2 - 48*{{\\nu_{max}}}**2*{{\\phi_O}} - {{\\nu_{max}}}**2*(({{\\nu_{max}}}**3*sqrt(((54*{{\\nu_{max}}}*(-\\lambda**2*{{K_M^{c_{pc}}}}*{{\\phi_O}} + \\lambda**2*{{K_M^{c_{pc}}}} + \\lambda**2*{{\\phi_O}} - \\lambda**2 - \\lambda*{{K_M^{c_{pc}}}}*{{\\nu_{max}}}*{{\\phi_O}}**2 + 2*\\lambda*{{K_M^{c_{pc}}}}*{{\\nu_{max}}}*{{\\phi_O}} - \\lambda*{{K_M^{c_{pc}}}}*{{\\nu_{max}}} + 2*\\lambda*{{\\nu_{max}}}*{{\\phi_O}}**2 - 4*\\lambda*{{\\nu_{max}}}*{{\\phi_O}} + 2*\\lambda*{{\\nu_{max}}} + {{\\nu_{max}}}**2*{{\\phi_O}}**3 - 3*{{\\nu_{max}}}**2*{{\\phi_O}}**2 + 3*{{\\nu_{max}}}**2*{{\\phi_O}} - {{\\nu_{max}}}**2) + (-3*\\lambda*{{K_M^{c_{pc}}}} + 4*\\lambda + 5*{{\\nu_{max}}}*{{\\phi_O}} - 5*{{\\nu_{max}}})*(18*\\lambda**2*{{K_M^{c_{pc}}}} - 18*\\lambda**2 + 36*\\lambda*{{K_M^{c_{pc}}}}*{{\\nu_{max}}}*{{\\phi_O}} - 36*\\lambda*{{K_M^{c_{pc}}}}*{{\\nu_{max}}} - 54*\\lambda*{{\\nu_{max}}}*{{\\phi_O}} + 54*\\lambda*{{\\nu_{max}}} - 36*{{\\nu_{max}}}**2*{{\\phi_O}}**2 + 72*{{\\nu_{max}}}**2*{{\\phi_O}} - 36*{{\\nu_{max}}}**2 + (-3*\\lambda*{{K_M^{c_{pc}}}} + 4*\\lambda + 5*{{\\nu_{max}}}*{{\\phi_O}} - 5*{{\\nu_{max}}})**2))**2 - (12*\\lambda**2*{{K_M^{c_{pc}}}} - 12*\\lambda**2 + 24*\\lambda*{{K_M^{c_{pc}}}}*{{\\nu_{max}}}*{{\\phi_O}} - 24*\\lambda*{{K_M^{c_{pc}}}}*{{\\nu_{max}}} - 36*\\lambda*{{\\nu_{max}}}*{{\\phi_O}} + 36*\\lambda*{{\\nu_{max}}} - 24*{{\\nu_{max}}}**2*{{\\phi_O}}**2 + 48*{{\\nu_{max}}}**2*{{\\phi_O}} - 24*{{\\nu_{max}}}**2 + (-3*\\lambda*{{K_M^{c_{pc}}}} + 4*\\lambda + 5*{{\\nu_{max}}}*{{\\phi_O}} - 5*{{\\nu_{max}}})**2)**3)/{{\\nu_{max}}}**6) + 54*{{\\nu_{max}}}*(-\\lambda**2*{{K_M^{c_{pc}}}}*{{\\phi_O}} + \\lambda**2*{{K_M^{c_{pc}}}} + \\lambda**2*{{\\phi_O}} - \\lambda**2 - \\lambda*{{K_M^{c_{pc}}}}*{{\\nu_{max}}}*{{\\phi_O}}**2 + 2*\\lambda*{{K_M^{c_{pc}}}}*{{\\nu_{max}}}*{{\\phi_O}} - \\lambda*{{K_M^{c_{pc}}}}*{{\\nu_{max}}} + 2*\\lambda*{{\\nu_{max}}}*{{\\phi_O}}**2 - 4*\\lambda*{{\\nu_{max}}}*{{\\phi_O}} + 2*\\lambda*{{\\nu_{max}}} + {{\\nu_{max}}}**2*{{\\phi_O}}**3 - 3*{{\\nu_{max}}}**2*{{\\phi_O}}**2 + 3*{{\\nu_{max}}}**2*{{\\phi_O}} - {{\\nu_{max}}}**2) + (3*\\lambda*{{K_M^{c_{pc}}}} - 4*\\lambda - 5*{{\\nu_{max}}}*{{\\phi_O}} + 5*{{\\nu_{max}}})*(-18*\\lambda**2*{{K_M^{c_{pc}}}} + 18*\\lambda**2 - 36*\\lambda*{{K_M^{c_{pc}}}}*{{\\nu_{max}}}*{{\\phi_O}} + 36*\\lambda*{{K_M^{c_{pc}}}}*{{\\nu_{max}}} + 54*\\lambda*{{\\nu_{max}}}*{{\\phi_O}} - 54*\\lambda*{{\\nu_{max}}} + 36*{{\\nu_{max}}}**2*{{\\phi_O}}**2 - 72*{{\\nu_{max}}}**2*{{\\phi_O}} + 36*{{\\nu_{max}}}**2 - (3*\\lambda*{{K_M^{c_{pc}}}} - 4*\\lambda - 5*{{\\nu_{max}}}*{{\\phi_O}} + 5*{{\\nu_{max}}})**2))/{{\\nu_{max}}}**3)**(2/3) + 24*{{\\nu_{max}}}**2 + {{\\nu_{max}}}*(({{\\nu_{max}}}**3*sqrt(((54*{{\\nu_{max}}}*(-\\lambda**2*{{K_M^{c_{pc}}}}*{{\\phi_O}} + \\lambda**2*{{K_M^{c_{pc}}}} + \\lambda**2*{{\\phi_O}} - \\lambda**2 - \\lambda*{{K_M^{c_{pc}}}}*{{\\nu_{max}}}*{{\\phi_O}}**2 + 2*\\lambda*{{K_M^{c_{pc}}}}*{{\\nu_{max}}}*{{\\phi_O}} - \\lambda*{{K_M^{c_{pc}}}}*{{\\nu_{max}}} + 2*\\lambda*{{\\nu_{max}}}*{{\\phi_O}}**2 - 4*\\lambda*{{\\nu_{max}}}*{{\\phi_O}} + 2*\\lambda*{{\\nu_{max}}} + {{\\nu_{max}}}**2*{{\\phi_O}}**3 - 3*{{\\nu_{max}}}**2*{{\\phi_O}}**2 + 3*{{\\nu_{max}}}**2*{{\\phi_O}} - {{\\nu_{max}}}**2) + (-3*\\lambda*{{K_M^{c_{pc}}}} + 4*\\lambda + 5*{{\\nu_{max}}}*{{\\phi_O}} - 5*{{\\nu_{max}}})*(18*\\lambda**2*{{K_M^{c_{pc}}}} - 18*\\lambda**2 + 36*\\lambda*{{K_M^{c_{pc}}}}*{{\\nu_{max}}}*{{\\phi_O}} - 36*\\lambda*{{K_M^{c_{pc}}}}*{{\\nu_{max}}} - 54*\\lambda*{{\\nu_{max}}}*{{\\phi_O}} + 54*\\lambda*{{\\nu_{max}}} - 36*{{\\nu_{max}}}**2*{{\\phi_O}}**2 + 72*{{\\nu_{max}}}**2*{{\\phi_O}} - 36*{{\\nu_{max}}}**2 + (-3*\\lambda*{{K_M^{c_{pc}}}} + 4*\\lambda + 5*{{\\nu_{max}}}*{{\\phi_O}} - 5*{{\\nu_{max}}})**2))**2 - (12*\\lambda**2*{{K_M^{c_{pc}}}} - 12*\\lambda**2 + 24*\\lambda*{{K_M^{c_{pc}}}}*{{\\nu_{max}}}*{{\\phi_O}} - 24*\\lambda*{{K_M^{c_{pc}}}}*{{\\nu_{max}}} - 36*\\lambda*{{\\nu_{max}}}*{{\\phi_O}} + 36*\\lambda*{{\\nu_{max}}} - 24*{{\\nu_{max}}}**2*{{\\phi_O}}**2 + 48*{{\\nu_{max}}}**2*{{\\phi_O}} - 24*{{\\nu_{max}}}**2 + (-3*\\lambda*{{K_M^{c_{pc}}}} + 4*\\lambda + 5*{{\\nu_{max}}}*{{\\phi_O}} - 5*{{\\nu_{max}}})**2)**3)/{{\\nu_{max}}}**6) + 54*{{\\nu_{max}}}*(-\\lambda**2*{{K_M^{c_{pc}}}}*{{\\phi_O}} + \\lambda**2*{{K_M^{c_{pc}}}} + \\lambda**2*{{\\phi_O}} - \\lambda**2 - \\lambda*{{K_M^{c_{pc}}}}*{{\\nu_{max}}}*{{\\phi_O}}**2 + 2*\\lambda*{{K_M^{c_{pc}}}}*{{\\nu_{max}}}*{{\\phi_O}} - \\lambda*{{K_M^{c_{pc}}}}*{{\\nu_{max}}} + 2*\\lambda*{{\\nu_{max}}}*{{\\phi_O}}**2 - 4*\\lambda*{{\\nu_{max}}}*{{\\phi_O}} + 2*\\lambda*{{\\nu_{max}}} + {{\\nu_{max}}}**2*{{\\phi_O}}**3 - 3*{{\\nu_{max}}}**2*{{\\phi_O}}**2 + 3*{{\\nu_{max}}}**2*{{\\phi_O}} - {{\\nu_{max}}}**2) + (3*\\lambda*{{K_M^{c_{pc}}}} - 4*\\lambda - 5*{{\\nu_{max}}}*{{\\phi_O}} + 5*{{\\nu_{max}}})*(-18*\\lambda**2*{{K_M^{c_{pc}}}} + 18*\\lambda**2 - 36*\\lambda*{{K_M^{c_{pc}}}}*{{\\nu_{max}}}*{{\\phi_O}} + 36*\\lambda*{{K_M^{c_{pc}}}}*{{\\nu_{max}}} + 54*\\lambda*{{\\nu_{max}}}*{{\\phi_O}} - 54*\\lambda*{{\\nu_{max}}} + 36*{{\\nu_{max}}}**2*{{\\phi_O}}**2 - 72*{{\\nu_{max}}}**2*{{\\phi_O}} + 36*{{\\nu_{max}}}**2 - (3*\\lambda*{{K_M^{c_{pc}}}} - 4*\\lambda - 5*{{\\nu_{max}}}*{{\\phi_O}} + 5*{{\\nu_{max}}})**2))/{{\\nu_{max}}}**3)**(1/3)*(3*\\lambda*{{K_M^{c_{pc}}}} - 4*\\lambda - 5*{{\\nu_{max}}}*{{\\phi_O}} + 5*{{\\nu_{max}}}) - (3*\\lambda*{{K_M^{c_{pc}}}} - 4*\\lambda - 5*{{\\nu_{max}}}*{{\\phi_O}} + 5*{{\\nu_{max}}})**2)/(6*{{\\nu_{max}}}**2*(({{\\nu_{max}}}**3*sqrt(((54*{{\\nu_{max}}}*(-\\lambda**2*{{K_M^{c_{pc}}}}*{{\\phi_O}} + \\lambda**2*{{K_M^{c_{pc}}}} + \\lambda**2*{{\\phi_O}} - \\lambda**2 - \\lambda*{{K_M^{c_{pc}}}}*{{\\nu_{max}}}*{{\\phi_O}}**2 + 2*\\lambda*{{K_M^{c_{pc}}}}*{{\\nu_{max}}}*{{\\phi_O}} - \\lambda*{{K_M^{c_{pc}}}}*{{\\nu_{max}}} + 2*\\lambda*{{\\nu_{max}}}*{{\\phi_O}}**2 - 4*\\lambda*{{\\nu_{max}}}*{{\\phi_O}} + 2*\\lambda*{{\\nu_{max}}} + {{\\nu_{max}}}**2*{{\\phi_O}}**3 - 3*{{\\nu_{max}}}**2*{{\\phi_O}}**2 + 3*{{\\nu_{max}}}**2*{{\\phi_O}} - {{\\nu_{max}}}**2) + (-3*\\lambda*{{K_M^{c_{pc}}}} + 4*\\lambda + 5*{{\\nu_{max}}}*{{\\phi_O}} - 5*{{\\nu_{max}}})*(18*\\lambda**2*{{K_M^{c_{pc}}}} - 18*\\lambda**2 + 36*\\lambda*{{K_M^{c_{pc}}}}*{{\\nu_{max}}}*{{\\phi_O}} - 36*\\lambda*{{K_M^{c_{pc}}}}*{{\\nu_{max}}} - 54*\\lambda*{{\\nu_{max}}}*{{\\phi_O}} + 54*\\lambda*{{\\nu_{max}}} - 36*{{\\nu_{max}}}**2*{{\\phi_O}}**2 + 72*{{\\nu_{max}}}**2*{{\\phi_O}} - 36*{{\\nu_{max}}}**2 + (-3*\\lambda*{{K_M^{c_{pc}}}} + 4*\\lambda + 5*{{\\nu_{max}}}*{{\\phi_O}} - 5*{{\\nu_{max}}})**2))**2 - (12*\\lambda**2*{{K_M^{c_{pc}}}} - 12*\\lambda**2 + 24*\\lambda*{{K_M^{c_{pc}}}}*{{\\nu_{max}}}*{{\\phi_O}} - 24*\\lambda*{{K_M^{c_{pc}}}}*{{\\nu_{max}}} - 36*\\lambda*{{\\nu_{max}}}*{{\\phi_O}} + 36*\\lambda*{{\\nu_{max}}} - 24*{{\\nu_{max}}}**2*{{\\phi_O}}**2 + 48*{{\\nu_{max}}}**2*{{\\phi_O}} - 24*{{\\nu_{max}}}**2 + (-3*\\lambda*{{K_M^{c_{pc}}}} + 4*\\lambda + 5*{{\\nu_{max}}}*{{\\phi_O}} - 5*{{\\nu_{max}}})**2)**3)/{{\\nu_{max}}}**6) + 54*{{\\nu_{max}}}*(-\\lambda**2*{{K_M^{c_{pc}}}}*{{\\phi_O}} + \\lambda**2*{{K_M^{c_{pc}}}} + \\lambda**2*{{\\phi_O}} - \\lambda**2 - \\lambda*{{K_M^{c_{pc}}}}*{{\\nu_{max}}}*{{\\phi_O}}**2 + 2*\\lambda*{{K_M^{c_{pc}}}}*{{\\nu_{max}}}*{{\\phi_O}} - \\lambda*{{K_M^{c_{pc}}}}*{{\\nu_{max}}} + 2*\\lambda*{{\\nu_{max}}}*{{\\phi_O}}**2 - 4*\\lambda*{{\\nu_{max}}}*{{\\phi_O}} + 2*\\lambda*{{\\nu_{max}}} + {{\\nu_{max}}}**2*{{\\phi_O}}**3 - 3*{{\\nu_{max}}}**2*{{\\phi_O}}**2 + 3*{{\\nu_{max}}}**2*{{\\phi_O}} - {{\\nu_{max}}}**2) + (3*\\lambda*{{K_M^{c_{pc}}}} - 4*\\lambda - 5*{{\\nu_{max}}}*{{\\phi_O}} + 5*{{\\nu_{max}}})*(-18*\\lambda**2*{{K_M^{c_{pc}}}} + 18*\\lambda**2 - 36*\\lambda*{{K_M^{c_{pc}}}}*{{\\nu_{max}}}*{{\\phi_O}} + 36*\\lambda*{{K_M^{c_{pc}}}}*{{\\nu_{max}}} + 54*\\lambda*{{\\nu_{max}}}*{{\\phi_O}} - 54*\\lambda*{{\\nu_{max}}} + 36*{{\\nu_{max}}}**2*{{\\phi_O}}**2 - 72*{{\\nu_{max}}}**2*{{\\phi_O}} + 36*{{\\nu_{max}}}**2 - (3*\\lambda*{{K_M^{c_{pc}}}} - 4*\\lambda - 5*{{\\nu_{max}}}*{{\\phi_O}} + 5*{{\\nu_{max}}})**2))/{{\\nu_{max}}}**3)**(1/3))"
      ]
     },
     "execution_count": 29,
     "metadata": {},
     "output_type": "execute_result"
    }
   ],
   "source": [
    "soln[0].simplify()"
   ]
  },
  {
   "cell_type": "code",
   "execution_count": 59,
   "metadata": {},
   "outputs": [],
   "source": [
    "# Generalized form\n",
    "R1 = sp.symbols('R_1')\n",
    "R2 = sp.symbols('R_2')\n",
    "P1 = sp.symbols('P_1')\n",
    "P2 = sp.symbols('P_2')\n",
    "k1_max = sp.symbols('{{k_1^*}}')\n",
    "k2_max = sp.symbols('{{k_2^*}}')\n",
    "Km = sp.symbols('K_M')\n",
    "phi = sp.symbols('\\phi')\n",
    "k1 = k1_max * R1 / (R1 + Km)\n",
    "k2 = k2_max * R2 / (R2 + Km)"
   ]
  },
  {
   "cell_type": "code",
   "execution_count": 60,
   "metadata": {},
   "outputs": [],
   "source": [
    "dR1_dt = k1 * phi * (1 - R1) - k2 * (1 - phi)\n",
    "R1_soln = sp.solve(dR1_dt, R1)[0]\n",
    "k1 = k1_max * R1_soln / (R1_soln + Km)\n",
    "dR2_dt = k2 * (1 - phi) - k1 * phi * (1 + R2)\n",
    "\n",
    "R2_soln = sp.solve(dR2_dt, R2)\n"
   ]
  },
  {
   "cell_type": "code",
   "execution_count": 61,
   "metadata": {},
   "outputs": [
    {
     "data": {
      "text/plain": [
       "[0,\n",
       " (-K_M*\\phi*{{k_1^*}} - \\phi*{{k_1^*}} - \\phi*{{k_2^*}} + {{k_2^*}} - sqrt(K_M**2*\\phi**2*{{k_1^*}}**2 - 2*K_M*\\phi**2*{{k_1^*}}**2 + 6*K_M*\\phi**2*{{k_1^*}}*{{k_2^*}} - 6*K_M*\\phi*{{k_1^*}}*{{k_2^*}} + \\phi**2*{{k_1^*}}**2 + 2*\\phi**2*{{k_1^*}}*{{k_2^*}} + \\phi**2*{{k_2^*}}**2 - 2*\\phi*{{k_1^*}}*{{k_2^*}} - 2*\\phi*{{k_2^*}}**2 + {{k_2^*}}**2))/(2*\\phi*{{k_1^*}}),\n",
       " (-K_M*\\phi*{{k_1^*}} - \\phi*{{k_1^*}} - \\phi*{{k_2^*}} + {{k_2^*}} + sqrt(K_M**2*\\phi**2*{{k_1^*}}**2 - 2*K_M*\\phi**2*{{k_1^*}}**2 + 6*K_M*\\phi**2*{{k_1^*}}*{{k_2^*}} - 6*K_M*\\phi*{{k_1^*}}*{{k_2^*}} + \\phi**2*{{k_1^*}}**2 + 2*\\phi**2*{{k_1^*}}*{{k_2^*}} + \\phi**2*{{k_2^*}}**2 - 2*\\phi*{{k_1^*}}*{{k_2^*}} - 2*\\phi*{{k_2^*}}**2 + {{k_2^*}}**2))/(2*\\phi*{{k_1^*}})]"
      ]
     },
     "execution_count": 61,
     "metadata": {},
     "output_type": "execute_result"
    }
   ],
   "source": [
    "\n",
    "R2_soln"
   ]
  },
  {
   "cell_type": "code",
   "execution_count": null,
   "metadata": {},
   "outputs": [],
   "source": []
  },
  {
   "cell_type": "code",
   "execution_count": null,
   "metadata": {},
   "outputs": [],
   "source": []
  },
  {
   "cell_type": "code",
   "execution_count": null,
   "metadata": {},
   "outputs": [],
   "source": []
  },
  {
   "cell_type": "code",
   "execution_count": null,
   "metadata": {},
   "outputs": [],
   "source": []
  }
 ],
 "metadata": {
  "kernelspec": {
   "display_name": "Python 3.8.12 ('base')",
   "language": "python",
   "name": "python3"
  },
  "language_info": {
   "codemirror_mode": {
    "name": "ipython",
    "version": 3
   },
   "file_extension": ".py",
   "mimetype": "text/x-python",
   "name": "python",
   "nbconvert_exporter": "python",
   "pygments_lexer": "ipython3",
   "version": "3.8.12"
  },
  "orig_nbformat": 4,
  "vscode": {
   "interpreter": {
    "hash": "3c564ef7d7bc2191162644f217262f5516438042a09a12c52b9a7e4611a084e2"
   }
  }
 },
 "nbformat": 4,
 "nbformat_minor": 2
}
