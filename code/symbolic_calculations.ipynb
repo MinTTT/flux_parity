{
 "cells": [
  {
   "cell_type": "markdown",
   "metadata": {},
   "source": [
    "# Symbolic Calculation of Optimal Ribosomal Allocation\n",
    "(c) This work is licensed under a Creative Commons Attribution License CC-BY 4.0. All code contained herein is licensed under an MIT license\n",
    "\n"
   ]
  },
  {
   "cell_type": "code",
   "execution_count": 2,
   "metadata": {},
   "outputs": [],
   "source": [
    "import sympy as sp"
   ]
  },
  {
   "cell_type": "markdown",
   "metadata": {},
   "source": [
    "In the main text of this work, we present analytical solutions for the steady-state growth rate and potential ribosomal allocations as functions of the simple model parameters. While we drive almost all of these explicitly in the Supplementary Text, we state that the optimal allocation towards ribosomes was computed through differentiation of a complex function. Here, we perform this calculation symbolically to yield an identical result as Eq. S30 of the supplemental text.\n",
    "\n",
    "\n",
    "We begin by definiting the necessary symbols we will use in [SymPy](https://www.sympy.org/en/index.html), the symbolic computing library for Python."
   ]
  },
  {
   "cell_type": "code",
   "execution_count": 3,
   "metadata": {},
   "outputs": [
    {
     "data": {
      "text/latex": [
       "$\\displaystyle \\frac{\\lambda \\left(\\lambda {{K_M^{c_{pc}}}} - \\lambda + {{\\gamma_{max}}} {{\\phi_R}}\\right)}{\\lambda {{\\phi_R}} - \\lambda - {{\\gamma_{max}}} {{\\phi_R}}^{2} + {{\\gamma_{max}}} {{\\phi_R}}}$"
      ],
      "text/plain": [
       "\\lambda*(\\lambda*{{K_M^{c_{pc}}}} - \\lambda + {{\\gamma_{max}}}*{{\\phi_R}})/(\\lambda*{{\\phi_R}} - \\lambda - {{\\gamma_{max}}}*{{\\phi_R}}**2 + {{\\gamma_{max}}}*{{\\phi_R}})"
      ]
     },
     "execution_count": 3,
     "metadata": {},
     "output_type": "execute_result"
    }
   ],
   "source": [
    "# Define symbols\n",
    "gamma_max = sp.Symbol(r'{{\\gamma_{max}}}') # Translation rate\n",
    "nu_max = sp.Symbol(r'{{\\nu_{max}}}') # Maximal metabolic rate\n",
    "phi_Rb = sp.Symbol(r'{{\\phi_R}}') # Allocation towards ribosomes\n",
    "phi_O = sp.Symbol(r'{{\\phi_O}}') # Allocation towards other proteins\n",
    "K_M = sp.Symbol(r'{{K_M^{c_{pc}}}}')  # Michaelis-Menten constant for translatio\n",
    "cpc = sp.Symbol(r'{{c_{pc}}}') # Concentration of precursors"
   ]
  },
  {
   "cell_type": "markdown",
   "metadata": {},
   "source": [
    "We can now define the necessary equations. Specifically, we define here the equation defined in Eq. S24,\n",
    "including the short-hand notation for the maximal metabolic output $\\mathsf{N}$ and maximal translational outpu $\\Gamma$."
   ]
  },
  {
   "cell_type": "code",
   "execution_count": 7,
   "metadata": {},
   "outputs": [
    {
     "data": {
      "text/latex": [
       "$\\displaystyle \\frac{- {{\\gamma_{max}}} {{\\phi_R}} - {{\\nu_{max}}} \\left(- {{\\phi_O}} - {{\\phi_R}} + 1\\right) + \\sqrt{- {{\\gamma_{max}}} {{\\nu_{max}}} {{\\phi_R}} \\left(4 - 4 {{K_M^{c_{pc}}}}\\right) \\left(- {{\\phi_O}} - {{\\phi_R}} + 1\\right) + \\left({{\\gamma_{max}}} {{\\phi_R}} + {{\\nu_{max}}} \\left(- {{\\phi_O}} - {{\\phi_R}} + 1\\right)\\right)^{2}}}{2 - 2 {{K_M^{c_{pc}}}}}$"
      ],
      "text/plain": [
       "(-{{\\gamma_{max}}}*{{\\phi_R}} - {{\\nu_{max}}}*(-{{\\phi_O}} - {{\\phi_R}} + 1) + sqrt(-{{\\gamma_{max}}}*{{\\nu_{max}}}*{{\\phi_R}}*(4 - 4*{{K_M^{c_{pc}}}})*(-{{\\phi_O}} - {{\\phi_R}} + 1) + ({{\\gamma_{max}}}*{{\\phi_R}} + {{\\nu_{max}}}*(-{{\\phi_O}} - {{\\phi_R}} + 1))**2))/(2 - 2*{{K_M^{c_{pc}}}})"
      ]
     },
     "execution_count": 7,
     "metadata": {},
     "output_type": "execute_result"
    }
   ],
   "source": [
    "# Define the metbolic outputs\n",
    "Nu = nu_max * (1 - phi_O - phi_Rb);\n",
    "Gamma = gamma_max * phi_Rb;\n",
    "\n",
    "# Define the equation for the steady-state growth rate piecewise using the \n",
    "# quadratic form, Eq. S22.\n",
    "a =  (1 - K_M)\n",
    "b = Nu + Gamma\n",
    "c = Nu * Gamma\n",
    "lam = (-b + sp.sqrt(b**2 - 4 * a * c)) / (2 * a)\n",
    "lam"
   ]
  },
  {
   "cell_type": "markdown",
   "metadata": {},
   "source": [
    "With the steady-state growth rate now defined, we can compute the derivative with respect to $\\phi_{Rb}$,"
   ]
  },
  {
   "cell_type": "code",
   "execution_count": 8,
   "metadata": {},
   "outputs": [
    {
     "data": {
      "text/latex": [
       "$\\displaystyle \\frac{- {{\\gamma_{max}}} + {{\\nu_{max}}} + \\frac{\\frac{{{\\gamma_{max}}} {{\\nu_{max}}} {{\\phi_R}} \\left(4 - 4 {{K_M^{c_{pc}}}}\\right)}{2} - \\frac{{{\\gamma_{max}}} {{\\nu_{max}}} \\left(4 - 4 {{K_M^{c_{pc}}}}\\right) \\left(- {{\\phi_O}} - {{\\phi_R}} + 1\\right)}{2} + \\frac{\\left(2 {{\\gamma_{max}}} - 2 {{\\nu_{max}}}\\right) \\left({{\\gamma_{max}}} {{\\phi_R}} + {{\\nu_{max}}} \\left(- {{\\phi_O}} - {{\\phi_R}} + 1\\right)\\right)}{2}}{\\sqrt{- {{\\gamma_{max}}} {{\\nu_{max}}} {{\\phi_R}} \\left(4 - 4 {{K_M^{c_{pc}}}}\\right) \\left(- {{\\phi_O}} - {{\\phi_R}} + 1\\right) + \\left({{\\gamma_{max}}} {{\\phi_R}} + {{\\nu_{max}}} \\left(- {{\\phi_O}} - {{\\phi_R}} + 1\\right)\\right)^{2}}}}{2 - 2 {{K_M^{c_{pc}}}}}$"
      ],
      "text/plain": [
       "(-{{\\gamma_{max}}} + {{\\nu_{max}}} + ({{\\gamma_{max}}}*{{\\nu_{max}}}*{{\\phi_R}}*(4 - 4*{{K_M^{c_{pc}}}})/2 - {{\\gamma_{max}}}*{{\\nu_{max}}}*(4 - 4*{{K_M^{c_{pc}}}})*(-{{\\phi_O}} - {{\\phi_R}} + 1)/2 + (2*{{\\gamma_{max}}} - 2*{{\\nu_{max}}})*({{\\gamma_{max}}}*{{\\phi_R}} + {{\\nu_{max}}}*(-{{\\phi_O}} - {{\\phi_R}} + 1))/2)/sqrt(-{{\\gamma_{max}}}*{{\\nu_{max}}}*{{\\phi_R}}*(4 - 4*{{K_M^{c_{pc}}}})*(-{{\\phi_O}} - {{\\phi_R}} + 1) + ({{\\gamma_{max}}}*{{\\phi_R}} + {{\\nu_{max}}}*(-{{\\phi_O}} - {{\\phi_R}} + 1))**2))/(2 - 2*{{K_M^{c_{pc}}}})"
      ]
     },
     "execution_count": 8,
     "metadata": {},
     "output_type": "execute_result"
    }
   ],
   "source": [
    "dlam_dphiRb = lam.diff(phi_Rb)\n",
    "dlam_dphiRb"
   ]
  },
  {
   "cell_type": "markdown",
   "metadata": {},
   "source": [
    "which is equivalent to Eq. S28 upon some manual rearrangement. We can now solve this derivative for the value of $\\phi_{Rb}$ when $\\tfrac{\\partial \\lambda}{\\partial \\phi_{Rb}} = 0$."
   ]
  },
  {
   "cell_type": "code",
   "execution_count": 10,
   "metadata": {},
   "outputs": [
    {
     "data": {
      "text/latex": [
       "$\\displaystyle \\frac{\\left({{\\phi_O}} - 1\\right) \\left(- {{\\nu_{max}}} \\left(- 2 {{K_M^{c_{pc}}}} {{\\gamma_{max}}} + {{\\gamma_{max}}} + {{\\nu_{max}}}\\right) + \\sqrt{{{K_M^{c_{pc}}}} {{\\gamma_{max}}} {{\\nu_{max}}}} \\left(- {{\\gamma_{max}}} + {{\\nu_{max}}}\\right)\\right)}{- 4 {{K_M^{c_{pc}}}} {{\\gamma_{max}}} {{\\nu_{max}}} + {{\\gamma_{max}}}^{2} + 2 {{\\gamma_{max}}} {{\\nu_{max}}} + {{\\nu_{max}}}^{2}}$"
      ],
      "text/plain": [
       "({{\\phi_O}} - 1)*(-{{\\nu_{max}}}*(-2*{{K_M^{c_{pc}}}}*{{\\gamma_{max}}} + {{\\gamma_{max}}} + {{\\nu_{max}}}) + sqrt({{K_M^{c_{pc}}}}*{{\\gamma_{max}}}*{{\\nu_{max}}})*(-{{\\gamma_{max}}} + {{\\nu_{max}}}))/(-4*{{K_M^{c_{pc}}}}*{{\\gamma_{max}}}*{{\\nu_{max}}} + {{\\gamma_{max}}}**2 + 2*{{\\gamma_{max}}}*{{\\nu_{max}}} + {{\\nu_{max}}}**2)"
      ]
     },
     "execution_count": 10,
     "metadata": {},
     "output_type": "execute_result"
    }
   ],
   "source": [
    "# Solve for the optimal phiRb\n",
    "opt_phiRb = sp.solve(dlam_dphiRb, phi_Rb)[0]\n",
    "opt_phiRb"
   ]
  },
  {
   "cell_type": "markdown",
   "metadata": {},
   "source": [
    "The above equation is idential to Eq. S30 upon some algebraic rearrangement."
   ]
  }
 ],
 "metadata": {
  "interpreter": {
   "hash": "40d3a090f54c6569ab1632332b64b2c03c39dcf918b08424e98f38b5ae0af88f"
  },
  "kernelspec": {
   "display_name": "Python 3.8.11 64-bit ('base': conda)",
   "name": "python3"
  },
  "language_info": {
   "codemirror_mode": {
    "name": "ipython",
    "version": 3
   },
   "file_extension": ".py",
   "mimetype": "text/x-python",
   "name": "python",
   "nbconvert_exporter": "python",
   "pygments_lexer": "ipython3",
   "version": "3.8.8"
  },
  "orig_nbformat": 4
 },
 "nbformat": 4,
 "nbformat_minor": 2
}
