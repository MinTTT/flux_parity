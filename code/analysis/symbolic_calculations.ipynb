{
 "cells": [
  {
   "cell_type": "markdown",
   "source": [
    "# Symbolic Calculations of the Self Replicator Model\n",
    "(c) This work is licensed under a Creative Commons Attribution License CC-BY 4.0. All code contained herein is licensed under an MIT license\n"
   ],
   "metadata": {}
  },
  {
   "cell_type": "code",
   "execution_count": 2,
   "source": [
    "import numpy as np \n",
    "import pandas as pd \n",
    "import altair as alt \n",
    "import growth.viz\n",
    "import sympy as sp\n",
    "colors, palette = growth.viz.altair_style()"
   ],
   "outputs": [],
   "metadata": {}
  },
  {
   "cell_type": "markdown",
   "source": [
    "## Introduction"
   ],
   "metadata": {}
  },
  {
   "cell_type": "markdown",
   "source": [
    "## The Governing Dynamics"
   ],
   "metadata": {}
  },
  {
   "cell_type": "markdown",
   "source": [
    "## Steady-State Solutions"
   ],
   "metadata": {}
  },
  {
   "cell_type": "code",
   "execution_count": 18,
   "source": [
    "# Define symbols\n",
    "gamma_max = sp.Symbol(r'{{\\gamma_{max}}}')\n",
    "nu_max = sp.Symbol(r'{{\\nu_{max}}}')\n",
    "phi_R = sp.Symbol(r'{{\\phi_R}}')\n",
    "Kd = sp.Symbol(r'{{K_D}}')\n",
    "cAA = sp.Symbol(r'{{c_{AA}}}')\n",
    "mu = sp.Symbol(r'\\mu')\n",
    "t = sp.Symbol('t')\n",
    "# Define the system \n",
    "cAA_eq = (nu_max * (1 - phi_R) / mu) - 1\n",
    "gamma = gamma_max * cAA_eq / (cAA_eq + Kd)\n",
    "mu_eq = phi_R * gamma\n",
    "mu_soln = sp.solve(mu_eq - mu, mu)"
   ],
   "outputs": [],
   "metadata": {}
  },
  {
   "cell_type": "markdown",
   "source": [],
   "metadata": {}
  },
  {
   "cell_type": "code",
   "execution_count": 17,
   "source": [
    "mu_soln[0].factor()"
   ],
   "outputs": [
    {
     "output_type": "execute_result",
     "data": {
      "text/plain": [
       "(-{{\\gamma_{max}}}*{{\\phi_R}} + {{\\nu_{max}}}*{{\\phi_R}} - {{\\nu_{max}}} + sqrt(-4*{{K_D}}*{{\\gamma_{max}}}*{{\\nu_{max}}}*{{\\phi_R}}**2 + 4*{{K_D}}*{{\\gamma_{max}}}*{{\\nu_{max}}}*{{\\phi_R}} + {{\\gamma_{max}}}**2*{{\\phi_R}}**2 + 2*{{\\gamma_{max}}}*{{\\nu_{max}}}*{{\\phi_R}}**2 - 2*{{\\gamma_{max}}}*{{\\nu_{max}}}*{{\\phi_R}} + {{\\nu_{max}}}**2*{{\\phi_R}}**2 - 2*{{\\nu_{max}}}**2*{{\\phi_R}} + {{\\nu_{max}}}**2))/(2*({{K_D}} - 1))"
      ],
      "text/latex": [
       "$\\displaystyle \\frac{- {{\\gamma_{max}}} {{\\phi_R}} + {{\\nu_{max}}} {{\\phi_R}} - {{\\nu_{max}}} + \\sqrt{- 4 {{K_D}} {{\\gamma_{max}}} {{\\nu_{max}}} {{\\phi_R}}^{2} + 4 {{K_D}} {{\\gamma_{max}}} {{\\nu_{max}}} {{\\phi_R}} + {{\\gamma_{max}}}^{2} {{\\phi_R}}^{2} + 2 {{\\gamma_{max}}} {{\\nu_{max}}} {{\\phi_R}}^{2} - 2 {{\\gamma_{max}}} {{\\nu_{max}}} {{\\phi_R}} + {{\\nu_{max}}}^{2} {{\\phi_R}}^{2} - 2 {{\\nu_{max}}}^{2} {{\\phi_R}} + {{\\nu_{max}}}^{2}}}{2 \\left({{K_D}} - 1\\right)}$"
      ]
     },
     "metadata": {},
     "execution_count": 17
    }
   ],
   "metadata": {}
  },
  {
   "cell_type": "code",
   "execution_count": 32,
   "source": [
    "# Define the symbols\n",
    "M = sp.Symbol('M')\n",
    "Mr = sp.Symbol('{{M_R}}')\n",
    "M0 = sp.Symbol('{{M_0}}')\n",
    "Mr0 = sp.Symbol(r'{{M_{R,0}}}')\n",
    "cAA_0 = sp.Symbol(r'{{c_{AA,0}}}')\n",
    "gamma = cAA / (cAA + Kd)\n",
    "\n",
    "# Define the fns\n",
    "M_fn = sp.Function('{{M_f}}')\n",
    "Mr_fn = sp.Function('{{Mr_f}}')\n",
    "cAA_fn = sp.Function('{{cAA_f}}')\n",
    "\n",
    "# Define the system\n",
    "system = [sp.Eq(M_fn(t).diff(t), gamma * Mr_fn(t)), \n",
    "          sp.Eq(Mr_fn(t).diff(t), phi_R * M_fn(t)), \n",
    "          sp.Eq(cAA_fn(t).diff(t),  ((M_fn(t) - Mr_fn(t))/M_fn(t)) * nu_max - gamma * (Mr_fn(t) / M_fn(t)) - (cAA_fn(t) / M_fn(t))* M_fn(t))]\n",
    "ics = {M_fn(0):M0,\n",
    "       Mr_fn(0):Mr,\n",
    "       cAA_fn(0):cAA_0}\n",
    "sys_soln = sp.dsolve(system, [M_fn(t), Mr_fn(t), cAA_fn(t)], ics=ics)"
   ],
   "outputs": [],
   "metadata": {}
  },
  {
   "cell_type": "code",
   "execution_count": 27,
   "source": [
    "sys_soln[0]"
   ],
   "outputs": [
    {
     "output_type": "execute_result",
     "data": {
      "text/plain": [
       "Eq(dCAA_dt(t), {{c_{AA,0}}} - t**2*(-M*{{\\nu_{max}}}*({{K_D}} + {{c_{AA}}}) + {{K_D}}*{{M_R}}*{{\\nu_{max}}} + {{M_R}}*{{c_{AA}}}*({{\\nu_{max}}} + {{c_{AA}}} + 1))/(2*M*({{K_D}} + {{c_{AA}}})))"
      ],
      "text/latex": [
       "$\\displaystyle \\operatorname{dCAA_{dt}}{\\left(t \\right)} = {{c_{AA,0}}} - \\frac{t^{2} \\left(- M {{\\nu_{max}}} \\left({{K_D}} + {{c_{AA}}}\\right) + {{K_D}} {{M_R}} {{\\nu_{max}}} + {{M_R}} {{c_{AA}}} \\left({{\\nu_{max}}} + {{c_{AA}}} + 1\\right)\\right)}{2 M \\left({{K_D}} + {{c_{AA}}}\\right)}$"
      ]
     },
     "metadata": {},
     "execution_count": 27
    }
   ],
   "metadata": {}
  },
  {
   "cell_type": "code",
   "execution_count": null,
   "source": [],
   "outputs": [],
   "metadata": {}
  }
 ],
 "metadata": {
  "orig_nbformat": 4,
  "language_info": {
   "name": "python",
   "version": "3.8.8",
   "mimetype": "text/x-python",
   "codemirror_mode": {
    "name": "ipython",
    "version": 3
   },
   "pygments_lexer": "ipython3",
   "nbconvert_exporter": "python",
   "file_extension": ".py"
  },
  "kernelspec": {
   "name": "python3",
   "display_name": "Python 3.8.8 64-bit ('base': conda)"
  },
  "interpreter": {
   "hash": "dca0ade3e726a953b501b15e8e990130d2b7799f14cfd9f4271676035ebe5511"
  }
 },
 "nbformat": 4,
 "nbformat_minor": 2
}