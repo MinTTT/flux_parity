{
 "cells": [
  {
   "cell_type": "markdown",
   "source": [
    "# Taylor Expanding the Non-linearities"
   ],
   "metadata": {}
  },
  {
   "cell_type": "code",
   "execution_count": 2,
   "source": [
    "import sympy as sp"
   ],
   "outputs": [],
   "metadata": {}
  },
  {
   "cell_type": "code",
   "execution_count": 3,
   "source": [
    "# Define the symbols\n",
    "gamma_max = sp.Symbol('\\gamma_{max}')\n",
    "nu_max = sp.Symbol(r'\\nu_{max}')\n",
    "Kd = sp.Symbol('K_D')\n",
    "phi_R = sp.Symbol('\\phi_R')\n",
    "phi_O = sp.Symbol('\\phi_O')\n",
    "lam = sp.Symbol('\\lambda')\n",
    "phi_P = 1 - phi_R\n",
    "\n",
    "# Define the self replciator steady state equations\n",
    "c_AA = (nu_max * phi_P / lam) - 1\n",
    "lam_eq = gamma_max * phi_R * (c_AA / (c_AA + Kd))\n",
    "phiR_soln = sp.solve(lam_eq - lam, phi_R)[0]"
   ],
   "outputs": [],
   "metadata": {}
  },
  {
   "cell_type": "markdown",
   "source": [],
   "metadata": {}
  },
  {
   "cell_type": "code",
   "execution_count": 4,
   "source": [
    "def taylor(function, x0, n, x):\n",
    "    i = 0\n",
    "    p = 0\n",
    "    while i <= n:\n",
    "        p = p + (function.diff(x, i).subs(x, x0))/(sp.factorial(i))*(x - x0)**i\n",
    "        i += 1\n",
    "    return p\n",
    "phiR_expand = taylor(phiR_soln, x=lam, x0=0, n=2)\n"
   ],
   "outputs": [],
   "metadata": {}
  },
  {
   "cell_type": "code",
   "execution_count": 5,
   "source": [
    "phiR_expand"
   ],
   "outputs": [
    {
     "output_type": "execute_result",
     "data": {
      "text/latex": [
       "$\\displaystyle - \\frac{\\lambda^{2} \\left(- 4 K_{D} \\gamma_{max} \\nu_{max} + \\gamma_{max}^{2} + 2 \\gamma_{max} \\nu_{max} + \\nu_{max}^{2} - \\frac{\\left(\\gamma_{max}^{2} \\nu_{max} + \\gamma_{max} \\nu_{max}^{2}\\right)^{2}}{\\gamma_{max}^{2} \\nu_{max}^{2}}\\right)}{4 \\gamma_{max} \\nu_{max} \\sqrt{\\gamma_{max}^{2} \\nu_{max}^{2}}} + \\frac{\\lambda \\left(- \\gamma_{max} + \\nu_{max} - \\frac{- \\gamma_{max}^{2} \\nu_{max} - \\gamma_{max} \\nu_{max}^{2}}{\\sqrt{\\gamma_{max}^{2} \\nu_{max}^{2}}}\\right)}{2 \\gamma_{max} \\nu_{max}} + \\frac{\\gamma_{max} \\nu_{max} - \\sqrt{\\gamma_{max}^{2} \\nu_{max}^{2}}}{2 \\gamma_{max} \\nu_{max}}$"
      ],
      "text/plain": [
       "-\\lambda**2*(-4*K_D*\\gamma_{max}*\\nu_{max} + \\gamma_{max}**2 + 2*\\gamma_{max}*\\nu_{max} + \\nu_{max}**2 - (\\gamma_{max}**2*\\nu_{max} + \\gamma_{max}*\\nu_{max}**2)**2/(\\gamma_{max}**2*\\nu_{max}**2))/(4*\\gamma_{max}*\\nu_{max}*sqrt(\\gamma_{max}**2*\\nu_{max}**2)) + \\lambda*(-\\gamma_{max} + \\nu_{max} - (-\\gamma_{max}**2*\\nu_{max} - \\gamma_{max}*\\nu_{max}**2)/sqrt(\\gamma_{max}**2*\\nu_{max}**2))/(2*\\gamma_{max}*\\nu_{max}) + (\\gamma_{max}*\\nu_{max} - sqrt(\\gamma_{max}**2*\\nu_{max}**2))/(2*\\gamma_{max}*\\nu_{max})"
      ]
     },
     "metadata": {},
     "execution_count": 5
    }
   ],
   "metadata": {}
  },
  {
   "cell_type": "markdown",
   "source": [],
   "metadata": {}
  },
  {
   "cell_type": "code",
   "execution_count": null,
   "source": [],
   "outputs": [],
   "metadata": {}
  }
 ],
 "metadata": {
  "kernelspec": {
   "name": "python3",
   "display_name": "Python 3.8.11 64-bit ('base': conda)"
  },
  "language_info": {
   "codemirror_mode": {
    "name": "ipython",
    "version": 3
   },
   "file_extension": ".py",
   "mimetype": "text/x-python",
   "name": "python",
   "nbconvert_exporter": "python",
   "pygments_lexer": "ipython3",
   "version": "3.8.11"
  },
  "orig_nbformat": 2,
  "interpreter": {
   "hash": "dca0ade3e726a953b501b15e8e990130d2b7799f14cfd9f4271676035ebe5511"
  }
 },
 "nbformat": 4,
 "nbformat_minor": 2
}