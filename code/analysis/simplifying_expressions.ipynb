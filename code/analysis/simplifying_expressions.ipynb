{
 "cells": [
  {
   "cell_type": "markdown",
   "metadata": {},
   "source": [
    "# Taylor Expanding the Non-linearities"
   ]
  },
  {
   "cell_type": "code",
   "execution_count": 1,
   "metadata": {},
   "outputs": [],
   "source": [
    "import sympy as sp"
   ]
  },
  {
   "cell_type": "code",
   "execution_count": 18,
   "metadata": {},
   "outputs": [
    {
     "data": {
      "text/latex": "$\\displaystyle \\frac{- \\gamma_{max} \\lambda - \\gamma_{max} \\nu_{max} \\phi_{O} + \\gamma_{max} \\nu_{max} + \\lambda \\nu_{max} - \\sqrt{- 4 K_{D} \\gamma_{max} \\lambda^{2} \\nu_{max} + \\gamma_{max}^{2} \\lambda^{2} + 2 \\gamma_{max}^{2} \\lambda \\nu_{max} \\phi_{O} - 2 \\gamma_{max}^{2} \\lambda \\nu_{max} + \\gamma_{max}^{2} \\nu_{max}^{2} \\phi_{O}^{2} - 2 \\gamma_{max}^{2} \\nu_{max}^{2} \\phi_{O} + \\gamma_{max}^{2} \\nu_{max}^{2} + 2 \\gamma_{max} \\lambda^{2} \\nu_{max} + 2 \\gamma_{max} \\lambda \\nu_{max}^{2} \\phi_{O} - 2 \\gamma_{max} \\lambda \\nu_{max}^{2} + \\lambda^{2} \\nu_{max}^{2}}}{2 \\gamma_{max} \\nu_{max}}$",
      "text/plain": "(-\\gamma_{max}*\\lambda - \\gamma_{max}*\\nu_{max}*\\phi_O + \\gamma_{max}*\\nu_{max} + \\lambda*\\nu_{max} - sqrt(-4*K_D*\\gamma_{max}*\\lambda**2*\\nu_{max} + \\gamma_{max}**2*\\lambda**2 + 2*\\gamma_{max}**2*\\lambda*\\nu_{max}*\\phi_O - 2*\\gamma_{max}**2*\\lambda*\\nu_{max} + \\gamma_{max}**2*\\nu_{max}**2*\\phi_O**2 - 2*\\gamma_{max}**2*\\nu_{max}**2*\\phi_O + \\gamma_{max}**2*\\nu_{max}**2 + 2*\\gamma_{max}*\\lambda**2*\\nu_{max} + 2*\\gamma_{max}*\\lambda*\\nu_{max}**2*\\phi_O - 2*\\gamma_{max}*\\lambda*\\nu_{max}**2 + \\lambda**2*\\nu_{max}**2))/(2*\\gamma_{max}*\\nu_{max})"
     },
     "execution_count": 18,
     "metadata": {},
     "output_type": "execute_result"
    }
   ],
   "source": [
    "# Define the symbols\n",
    "gamma_max = sp.Symbol('\\gamma_{max}')\n",
    "nu_max = sp.Symbol(r'\\nu_{max}')\n",
    "Kd = sp.Symbol('K_D')\n",
    "phi_R = sp.Symbol('\\phi_R')\n",
    "phi_O = sp.Symbol('\\phi_O')\n",
    "lam = sp.Symbol('\\lambda')\n",
    "phi_P = 1 - phi_O - phi_R\n",
    "\n",
    "\n",
    "# Define the self replciator steady state equations\n",
    "c_AA = (nu_max * phi_P / lam) - 1\n",
    "lam_eq = gamma_max * phi_R * (c_AA / (c_AA + Kd))\n",
    "phiR_soln = sp.solve(lam_eq - lam, phi_R)[0]\n",
    "\n",
    "\n",
    "# # Define the expression for the growth rate\n",
    "# lam_term_a = (1 - Kd)\n",
    "# lam_term_b = nu_max * phi_P + gamma_max * phi_R\n",
    "# lam_term_c = gamma_max * phi_R * nu_max * phi_P\n",
    "# lam_eq = (lam_term_b + sp.sqrt(lam_term_b**2 - 4 * lam_term_a * lam_term_c)) / (2 * lam_term_a)"
   ]
  },
  {
   "cell_type": "markdown",
   "metadata": {},
   "source": []
  },
  {
   "cell_type": "code",
   "execution_count": 19,
   "metadata": {},
   "outputs": [
    {
     "data": {
      "text/latex": "$\\displaystyle \\frac{\\lambda \\left(- \\gamma_{max} + \\nu_{max} - \\frac{\\gamma_{max}^{2} \\nu_{max} \\phi_{O} - \\gamma_{max}^{2} \\nu_{max} + \\gamma_{max} \\nu_{max}^{2} \\phi_{O} - \\gamma_{max} \\nu_{max}^{2}}{\\sqrt{\\gamma_{max}^{2} \\nu_{max}^{2} \\phi_{O}^{2} - 2 \\gamma_{max}^{2} \\nu_{max}^{2} \\phi_{O} + \\gamma_{max}^{2} \\nu_{max}^{2}}}\\right)}{2 \\gamma_{max} \\nu_{max}} + \\frac{- \\gamma_{max} \\nu_{max} \\phi_{O} + \\gamma_{max} \\nu_{max} - \\sqrt{\\gamma_{max}^{2} \\nu_{max}^{2} \\phi_{O}^{2} - 2 \\gamma_{max}^{2} \\nu_{max}^{2} \\phi_{O} + \\gamma_{max}^{2} \\nu_{max}^{2}}}{2 \\gamma_{max} \\nu_{max}}$",
      "text/plain": "\\lambda*(-\\gamma_{max} + \\nu_{max} - (\\gamma_{max}**2*\\nu_{max}*\\phi_O - \\gamma_{max}**2*\\nu_{max} + \\gamma_{max}*\\nu_{max}**2*\\phi_O - \\gamma_{max}*\\nu_{max}**2)/sqrt(\\gamma_{max}**2*\\nu_{max}**2*\\phi_O**2 - 2*\\gamma_{max}**2*\\nu_{max}**2*\\phi_O + \\gamma_{max}**2*\\nu_{max}**2))/(2*\\gamma_{max}*\\nu_{max}) + (-\\gamma_{max}*\\nu_{max}*\\phi_O + \\gamma_{max}*\\nu_{max} - sqrt(\\gamma_{max}**2*\\nu_{max}**2*\\phi_O**2 - 2*\\gamma_{max}**2*\\nu_{max}**2*\\phi_O + \\gamma_{max}**2*\\nu_{max}**2))/(2*\\gamma_{max}*\\nu_{max})"
     },
     "execution_count": 19,
     "metadata": {},
     "output_type": "execute_result"
    }
   ],
   "source": [
    "def taylor(function, x0, n, x):\n",
    "    i = 0\n",
    "    p = 0\n",
    "    while i <= n:\n",
    "        p = p + (function.diff(x, i).subs(x, x0))/(sp.factorial(i))*(x - x0)**i\n",
    "        i += 1\n",
    "    return p\n",
    "phiR_expand = taylor(phiR_soln, x=lam, x0=0, n=1)\n",
    "phiR_expand"
   ]
  },
  {
   "cell_type": "code",
   "execution_count": 15,
   "metadata": {},
   "outputs": [
    {
     "data": {
      "text/latex": "$\\displaystyle \\frac{\\phi_{R} \\left(\\gamma_{max} - \\nu_{max} + \\frac{- \\frac{\\gamma_{max} \\nu_{max} \\left(1 - \\phi_{O}\\right) \\left(4 - 4 K_{D}\\right)}{2} + \\frac{\\nu_{max} \\left(1 - \\phi_{O}\\right) \\left(2 \\gamma_{max} - 2 \\nu_{max}\\right)}{2}}{\\sqrt{\\nu_{max}^{2} \\left(1 - \\phi_{O}\\right)^{2}}}\\right)}{2 - 2 K_{D}} + \\frac{\\nu_{max} \\left(1 - \\phi_{O}\\right) + \\sqrt{\\nu_{max}^{2} \\left(1 - \\phi_{O}\\right)^{2}}}{2 - 2 K_{D}}$",
      "text/plain": "\\phi_R*(\\gamma_{max} - \\nu_{max} + (-\\gamma_{max}*\\nu_{max}*(1 - \\phi_O)*(4 - 4*K_D)/2 + \\nu_{max}*(1 - \\phi_O)*(2*\\gamma_{max} - 2*\\nu_{max})/2)/sqrt(\\nu_{max}**2*(1 - \\phi_O)**2))/(2 - 2*K_D) + (\\nu_{max}*(1 - \\phi_O) + sqrt(\\nu_{max}**2*(1 - \\phi_O)**2))/(2 - 2*K_D)"
     },
     "execution_count": 15,
     "metadata": {},
     "output_type": "execute_result"
    }
   ],
   "source": [
    "lam_expand"
   ]
  },
  {
   "cell_type": "markdown",
   "metadata": {},
   "source": []
  },
  {
   "cell_type": "code",
   "execution_count": null,
   "metadata": {},
   "outputs": [],
   "source": []
  }
 ],
 "metadata": {
  "kernelspec": {
   "display_name": "Python 3.8.8 64-bit ('base': conda)",
   "name": "python388jvsc74a57bd0dca0ade3e726a953b501b15e8e990130d2b7799f14cfd9f4271676035ebe5511"
  },
  "language_info": {
   "codemirror_mode": {
    "name": "ipython",
    "version": 3
   },
   "file_extension": ".py",
   "mimetype": "text/x-python",
   "name": "python",
   "nbconvert_exporter": "python",
   "pygments_lexer": "ipython3",
   "version": "3.8.8"
  },
  "orig_nbformat": 2
 },
 "nbformat": 4,
 "nbformat_minor": 2
}