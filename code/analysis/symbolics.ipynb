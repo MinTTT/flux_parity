{
 "metadata": {
  "language_info": {
   "codemirror_mode": {
    "name": "ipython",
    "version": 3
   },
   "file_extension": ".py",
   "mimetype": "text/x-python",
   "name": "python",
   "nbconvert_exporter": "python",
   "pygments_lexer": "ipython3",
   "version": "3.8.5-final"
  },
  "orig_nbformat": 2,
  "kernelspec": {
   "name": "python3",
   "display_name": "Python 3",
   "language": "python"
  }
 },
 "nbformat": 4,
 "nbformat_minor": 2,
 "cells": [
  {
   "cell_type": "code",
   "execution_count": 29,
   "metadata": {},
   "outputs": [],
   "source": [
    "import sympy as sp \n",
    "import numpy as np \n",
    "import matplotlib.pyplot as plt \n",
    "import seaborn as sns \n",
    "sns.set()"
   ]
  },
  {
   "cell_type": "code",
   "execution_count": 30,
   "metadata": {},
   "outputs": [],
   "source": [
    "gamma_max = sp.Symbol('{{\\gamma^{(max)}}}')\n",
    "nu_max = sp.Symbol(r'{{\\nu^{(max)}}}')\n",
    "phi_P = sp.Symbol('{{\\phi_P}}')\n",
    "phi_R = sp.Symbol('{{\\phi_R}}')\n",
    "Kd = sp.Symbol('{{K_D}}')\n",
    "lam = sp.Symbol('{{\\lambda}}')\n",
    "c_aa = (nu_max * phi_P / lam) - 1\n",
    "gamma = gamma_max /(1 + Kd/c_aa) \n",
    "eq = lam - phi_R * gamma \n",
    "soln = sp.solve(eq, lam)\n"
   ]
  },
  {
   "cell_type": "code",
   "execution_count": 31,
   "metadata": {},
   "outputs": [
    {
     "output_type": "execute_result",
     "data": {
      "text/plain": [
       "(-{{\\gamma^{(max)}}}*{{\\phi_R}} - {{\\nu^{(max)}}}*{{\\phi_P}} + sqrt(4*{{K_D}}*{{\\gamma^{(max)}}}*{{\\nu^{(max)}}}*{{\\phi_P}}*{{\\phi_R}} + {{\\gamma^{(max)}}}**2*{{\\phi_R}}**2 - 2*{{\\gamma^{(max)}}}*{{\\nu^{(max)}}}*{{\\phi_P}}*{{\\phi_R}} + {{\\nu^{(max)}}}**2*{{\\phi_P}}**2))/(2*({{K_D}} - 1))"
      ],
      "text/latex": "$\\displaystyle \\frac{- {{\\gamma^{(max)}}} {{\\phi_R}} - {{\\nu^{(max)}}} {{\\phi_P}} + \\sqrt{4 {{K_D}} {{\\gamma^{(max)}}} {{\\nu^{(max)}}} {{\\phi_P}} {{\\phi_R}} + \\left({{\\gamma^{(max)}}}\\right)^{2} {{\\phi_R}}^{2} - 2 {{\\gamma^{(max)}}} {{\\nu^{(max)}}} {{\\phi_P}} {{\\phi_R}} + \\left({{\\nu^{(max)}}}\\right)^{2} {{\\phi_P}}^{2}}}{2 \\left({{K_D}} - 1\\right)}$"
     },
     "metadata": {},
     "execution_count": 31
    }
   ],
   "source": [
    "soln[0].factor()"
   ]
  },
  {
   "cell_type": "code",
   "execution_count": 32,
   "metadata": {},
   "outputs": [],
   "source": [
    "term_a = Kd - 1\n",
    "term_b = nu_max * phi_P + gamma_max * phi_R\n",
    "term_c = nu_max * phi_P * gamma_max * phi_R\n",
    "_soln = (-term_b + sp.sqrt(term_b**2 - 4 * term_a * term_c)) / (2 * term_a)\n",
    "_soln = _soln.simplify() \n",
    "\n",
    "# Compute the optimum"
   ]
  },
  {
   "cell_type": "code",
   "execution_count": 33,
   "metadata": {},
   "outputs": [
    {
     "output_type": "execute_result",
     "data": {
      "text/plain": [
       "False"
      ]
     },
     "metadata": {},
     "execution_count": 33
    }
   ],
   "source": [
    "soln[0] == _soln"
   ]
  },
  {
   "cell_type": "code",
   "execution_count": 37,
   "metadata": {},
   "outputs": [],
   "source": [
    "gamma_max = sp.Symbol('{{\\gamma^{(max)}}}')\n",
    "nu_max = sp.Symbol(r'{{\\nu^{(max)}}}')\n",
    "phi_O = sp.Symbol(r'{{\\phi_O}}')\n",
    "phi_P = (1 - phi_O - phi_R)\n",
    "# phi_P = sp.Symbol('{{\\phi_P}}')\n",
    "phi_R = sp.Symbol('{{\\phi_R}}')\n",
    "Kd = sp.Symbol('{{K_D}}')\n",
    "lam = sp.Symbol('{{\\lambda}}')\n",
    "c_aa = (nu_max * phi_P / lam) - 1\n",
    "gamma = gamma_max /(1 + Kd/c_aa) \n",
    "\n",
    "#%%\n",
    "term_a = Kd - 1\n",
    "term_b = nu_max * phi_P + gamma_max * phi_R\n",
    "term_c = nu_max * phi_P * gamma_max * phi_R\n",
    "_soln = (-term_b + sp.sqrt(term_b**2 + 4 * term_a * term_c)) / (2 * term_a)\n",
    "_soln = _soln.simplify()\n"
   ]
  },
  {
   "cell_type": "code",
   "execution_count": 42,
   "metadata": {},
   "outputs": [
    {
     "output_type": "execute_result",
     "data": {
      "text/plain": [
       "(-{{\\gamma^{(max)}}}*{{\\phi_R}} + {{\\nu^{(max)}}}*({{\\phi_O}} + {{\\phi_R}} - 1) + sqrt(-4*{{\\gamma^{(max)}}}*{{\\nu^{(max)}}}*{{\\phi_R}}*({{K_D}} - 1)*({{\\phi_O}} + {{\\phi_R}} - 1) + ({{\\gamma^{(max)}}}*{{\\phi_R}} - {{\\nu^{(max)}}}*({{\\phi_O}} + {{\\phi_R}} - 1))**2))/(2*({{K_D}} - 1))"
      ],
      "text/latex": "$\\displaystyle \\frac{- {{\\gamma^{(max)}}} {{\\phi_R}} + {{\\nu^{(max)}}} \\left({{\\phi_O}} + {{\\phi_R}} - 1\\right) + \\sqrt{- 4 {{\\gamma^{(max)}}} {{\\nu^{(max)}}} {{\\phi_R}} \\left({{K_D}} - 1\\right) \\left({{\\phi_O}} + {{\\phi_R}} - 1\\right) + \\left({{\\gamma^{(max)}}} {{\\phi_R}} - {{\\nu^{(max)}}} \\left({{\\phi_O}} + {{\\phi_R}} - 1\\right)\\right)^{2}}}{2 \\left({{K_D}} - 1\\right)}$"
     },
     "metadata": {},
     "execution_count": 42
    }
   ],
   "source": [
    "_soln"
   ]
  },
  {
   "cell_type": "code",
   "execution_count": 38,
   "metadata": {},
   "outputs": [],
   "source": [
    "dlam_dR = sp.diff(_soln, phi_R)\n",
    "opt = sp.solve(dlam_dR, phi_R)"
   ]
  },
  {
   "cell_type": "code",
   "execution_count": 39,
   "metadata": {},
   "outputs": [
    {
     "output_type": "execute_result",
     "data": {
      "text/plain": [
       "({{\\phi_O}} - 1)*(-{{\\nu^{(max)}}}*(-2*{{K_D}}*{{\\gamma^{(max)}}} + {{\\gamma^{(max)}}} + {{\\nu^{(max)}}}) + sqrt({{K_D}}*{{\\gamma^{(max)}}}*{{\\nu^{(max)}}})*(-{{\\gamma^{(max)}}} + {{\\nu^{(max)}}}))/(-4*{{K_D}}*{{\\gamma^{(max)}}}*{{\\nu^{(max)}}} + {{\\gamma^{(max)}}}**2 + 2*{{\\gamma^{(max)}}}*{{\\nu^{(max)}}} + {{\\nu^{(max)}}}**2)"
      ],
      "text/latex": "$\\displaystyle \\frac{\\left({{\\phi_O}} - 1\\right) \\left(- {{\\nu^{(max)}}} \\left(- 2 {{K_D}} {{\\gamma^{(max)}}} + {{\\gamma^{(max)}}} + {{\\nu^{(max)}}}\\right) + \\sqrt{{{K_D}} {{\\gamma^{(max)}}} {{\\nu^{(max)}}}} \\left(- {{\\gamma^{(max)}}} + {{\\nu^{(max)}}}\\right)\\right)}{- 4 {{K_D}} {{\\gamma^{(max)}}} {{\\nu^{(max)}}} + \\left({{\\gamma^{(max)}}}\\right)^{2} + 2 {{\\gamma^{(max)}}} {{\\nu^{(max)}}} + \\left({{\\nu^{(max)}}}\\right)^{2}}$"
     },
     "metadata": {},
     "execution_count": 39
    }
   ],
   "source": [
    "opt[0]"
   ]
  },
  {
   "cell_type": "code",
   "execution_count": 40,
   "metadata": {},
   "outputs": [
    {
     "output_type": "execute_result",
     "data": {
      "text/plain": [
       "({{\\phi_O}} - 1)*(-{{\\nu^{(max)}}}*(-2*{{K_D}}*{{\\gamma^{(max)}}} + {{\\gamma^{(max)}}} + {{\\nu^{(max)}}}) + sqrt({{K_D}}*{{\\gamma^{(max)}}}*{{\\nu^{(max)}}})*({{\\gamma^{(max)}}} - {{\\nu^{(max)}}}))/(-4*{{K_D}}*{{\\gamma^{(max)}}}*{{\\nu^{(max)}}} + {{\\gamma^{(max)}}}**2 + 2*{{\\gamma^{(max)}}}*{{\\nu^{(max)}}} + {{\\nu^{(max)}}}**2)"
      ],
      "text/latex": "$\\displaystyle \\frac{\\left({{\\phi_O}} - 1\\right) \\left(- {{\\nu^{(max)}}} \\left(- 2 {{K_D}} {{\\gamma^{(max)}}} + {{\\gamma^{(max)}}} + {{\\nu^{(max)}}}\\right) + \\sqrt{{{K_D}} {{\\gamma^{(max)}}} {{\\nu^{(max)}}}} \\left({{\\gamma^{(max)}}} - {{\\nu^{(max)}}}\\right)\\right)}{- 4 {{K_D}} {{\\gamma^{(max)}}} {{\\nu^{(max)}}} + \\left({{\\gamma^{(max)}}}\\right)^{2} + 2 {{\\gamma^{(max)}}} {{\\nu^{(max)}}} + \\left({{\\nu^{(max)}}}\\right)^{2}}$"
     },
     "metadata": {},
     "execution_count": 40
    }
   ],
   "source": [
    "gamma_max = sp.Symbol('{{\\gamma^{(max)}}}')\n",
    "nu_max = sp.Symbol(r'{{\\nu^{(max)}}}')\n",
    "phi_O = sp.Symbol('{{\\phi_O}}')\n",
    "phi_R = sp.Symbol('{{\\phi_R}}')\n",
    "phi_P = 1 - phi_O - phi_R\n",
    "Kd = sp.Symbol('{{K_D}}')\n",
    "lam = sp.Symbol('{{\\lambda}}')\n",
    "c_aa = (nu_max * phi_P / lam) - 1\n",
    "gamma = gamma_max /(1 + Kd/c_aa) \n",
    "eq = lam - phi_R * gamma \n",
    "soln = sp.solve(eq, lam)\n",
    "dlam_dR = sp.diff(soln[0], phi_R)\n",
    "opt = sp.solve(dlam_dR, phi_R)\n",
    "opt[1]"
   ]
  },
  {
   "cell_type": "code",
   "execution_count": 41,
   "metadata": {},
   "outputs": [
    {
     "output_type": "execute_result",
     "data": {
      "text/plain": [
       "({{\\phi_O}} - 1)*(-{{\\nu^{(max)}}}*(-2*{{K_D}}*{{\\gamma^{(max)}}} + {{\\gamma^{(max)}}} + {{\\nu^{(max)}}}) + sqrt({{K_D}}*{{\\gamma^{(max)}}}*{{\\nu^{(max)}}})*(-{{\\gamma^{(max)}}} + {{\\nu^{(max)}}}))/(-4*{{K_D}}*{{\\gamma^{(max)}}}*{{\\nu^{(max)}}} + {{\\gamma^{(max)}}}**2 + 2*{{\\gamma^{(max)}}}*{{\\nu^{(max)}}} + {{\\nu^{(max)}}}**2)"
      ],
      "text/latex": "$\\displaystyle \\frac{\\left({{\\phi_O}} - 1\\right) \\left(- {{\\nu^{(max)}}} \\left(- 2 {{K_D}} {{\\gamma^{(max)}}} + {{\\gamma^{(max)}}} + {{\\nu^{(max)}}}\\right) + \\sqrt{{{K_D}} {{\\gamma^{(max)}}} {{\\nu^{(max)}}}} \\left(- {{\\gamma^{(max)}}} + {{\\nu^{(max)}}}\\right)\\right)}{- 4 {{K_D}} {{\\gamma^{(max)}}} {{\\nu^{(max)}}} + \\left({{\\gamma^{(max)}}}\\right)^{2} + 2 {{\\gamma^{(max)}}} {{\\nu^{(max)}}} + \\left({{\\nu^{(max)}}}\\right)^{2}}$"
     },
     "metadata": {},
     "execution_count": 41
    }
   ],
   "source": [
    "opt[0]"
   ]
  },
  {
   "cell_type": "code",
   "execution_count": null,
   "metadata": {},
   "outputs": [],
   "source": []
  }
 ]
}