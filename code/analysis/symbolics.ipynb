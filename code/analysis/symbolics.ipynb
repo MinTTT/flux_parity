{
 "cells": [
  {
   "cell_type": "code",
   "execution_count": 1,
   "metadata": {},
   "outputs": [],
   "source": [
    "import sympy as sp \n",
    "import numpy as np  \n",
    "import altair as alt "
   ]
  },
  {
   "cell_type": "markdown",
   "metadata": {},
   "source": [
    "# Solving steady state expression for λ"
   ]
  },
  {
   "cell_type": "code",
   "execution_count": 5,
   "metadata": {},
   "outputs": [
    {
     "data": {
      "text/latex": [
       "$\\displaystyle \\frac{{{\\gamma_{max}}} {{\\phi_{Rb}}} + {{\\nu_{max}}} \\left(- {{\\phi_O}} - {{\\phi_{Rb}}} + 1\\right) - \\sqrt{- {{\\gamma_{max}}} {{\\nu_{max}}} {{\\phi_{Rb}}} \\left(4 - 4 {{K_D^{c_{pc}}}}\\right) \\left(- {{\\phi_O}} - {{\\phi_{Rb}}} + 1\\right) + \\left({{\\gamma_{max}}} {{\\phi_{Rb}}} + {{\\nu_{max}}} \\left(- {{\\phi_O}} - {{\\phi_{Rb}}} + 1\\right)\\right)^{2}}}{2 - 2 {{K_D^{c_{pc}}}}}$"
      ],
      "text/plain": [
       "({{\\gamma_{max}}}*{{\\phi_{Rb}}} + {{\\nu_{max}}}*(-{{\\phi_O}} - {{\\phi_{Rb}}} + 1) - sqrt(-{{\\gamma_{max}}}*{{\\nu_{max}}}*{{\\phi_{Rb}}}*(4 - 4*{{K_D^{c_{pc}}}})*(-{{\\phi_O}} - {{\\phi_{Rb}}} + 1) + ({{\\gamma_{max}}}*{{\\phi_{Rb}}} + {{\\nu_{max}}}*(-{{\\phi_O}} - {{\\phi_{Rb}}} + 1))**2))/(2 - 2*{{K_D^{c_{pc}}}})"
      ]
     },
     "execution_count": 5,
     "metadata": {},
     "output_type": "execute_result"
    }
   ],
   "source": [
    "gamma_max = sp.Symbol(r'{{\\gamma_{max}}}')\n",
    "nu_max = sp.Symbol(r'{{\\nu_{max}}}')\n",
    "Kd = sp.Symbol(r'{{K_D^{c_{pc}}}}')\n",
    "phi_O = sp.Symbol('{{\\phi_O}}')\n",
    "phi_Rb = sp.Symbol('{{\\phi_{Rb}}}')\n",
    "\n",
    "Nu = nu_max * (1 - phi_O - phi_Rb)\n",
    "Gamma = gamma_max * phi_Rb\n",
    "lam = (Nu + Gamma - sp.sqrt((Nu + Gamma)**2 - 4 * (1 - Kd) * Nu * Gamma)) / (2 * (1 - Kd))\n",
    "lam"
   ]
  },
  {
   "cell_type": "code",
   "execution_count": 14,
   "metadata": {},
   "outputs": [],
   "source": [
    "diff = lam.diff(phi_Rb)"
   ]
  },
  {
   "cell_type": "code",
   "execution_count": 15,
   "metadata": {},
   "outputs": [
    {
     "data": {
      "text/latex": [
       "$\\displaystyle \\frac{{{\\gamma_{max}}} - {{\\nu_{max}}} - \\frac{\\frac{{{\\gamma_{max}}} {{\\nu_{max}}} {{\\phi_{Rb}}} \\left(4 - 4 {{K_D^{c_{pc}}}}\\right)}{2} - \\frac{{{\\gamma_{max}}} {{\\nu_{max}}} \\left(4 - 4 {{K_D^{c_{pc}}}}\\right) \\left(- {{\\phi_O}} - {{\\phi_{Rb}}} + 1\\right)}{2} + \\frac{\\left(2 {{\\gamma_{max}}} - 2 {{\\nu_{max}}}\\right) \\left({{\\gamma_{max}}} {{\\phi_{Rb}}} + {{\\nu_{max}}} \\left(- {{\\phi_O}} - {{\\phi_{Rb}}} + 1\\right)\\right)}{2}}{\\sqrt{- {{\\gamma_{max}}} {{\\nu_{max}}} {{\\phi_{Rb}}} \\left(4 - 4 {{K_D^{c_{pc}}}}\\right) \\left(- {{\\phi_O}} - {{\\phi_{Rb}}} + 1\\right) + \\left({{\\gamma_{max}}} {{\\phi_{Rb}}} + {{\\nu_{max}}} \\left(- {{\\phi_O}} - {{\\phi_{Rb}}} + 1\\right)\\right)^{2}}}}{2 - 2 {{K_D^{c_{pc}}}}}$"
      ],
      "text/plain": [
       "({{\\gamma_{max}}} - {{\\nu_{max}}} - ({{\\gamma_{max}}}*{{\\nu_{max}}}*{{\\phi_{Rb}}}*(4 - 4*{{K_D^{c_{pc}}}})/2 - {{\\gamma_{max}}}*{{\\nu_{max}}}*(4 - 4*{{K_D^{c_{pc}}}})*(-{{\\phi_O}} - {{\\phi_{Rb}}} + 1)/2 + (2*{{\\gamma_{max}}} - 2*{{\\nu_{max}}})*({{\\gamma_{max}}}*{{\\phi_{Rb}}} + {{\\nu_{max}}}*(-{{\\phi_O}} - {{\\phi_{Rb}}} + 1))/2)/sqrt(-{{\\gamma_{max}}}*{{\\nu_{max}}}*{{\\phi_{Rb}}}*(4 - 4*{{K_D^{c_{pc}}}})*(-{{\\phi_O}} - {{\\phi_{Rb}}} + 1) + ({{\\gamma_{max}}}*{{\\phi_{Rb}}} + {{\\nu_{max}}}*(-{{\\phi_O}} - {{\\phi_{Rb}}} + 1))**2))/(2 - 2*{{K_D^{c_{pc}}}})"
      ]
     },
     "execution_count": 15,
     "metadata": {},
     "output_type": "execute_result"
    }
   ],
   "source": [
    "diff"
   ]
  },
  {
   "cell_type": "code",
   "execution_count": null,
   "metadata": {},
   "outputs": [],
   "source": [
    "lam_soln"
   ]
  },
  {
   "cell_type": "code",
   "execution_count": null,
   "metadata": {},
   "outputs": [],
   "source": [
    "a = \n",
    "lam_eq = "
   ]
  }
 ],
 "metadata": {
  "interpreter": {
   "hash": "40d3a090f54c6569ab1632332b64b2c03c39dcf918b08424e98f38b5ae0af88f"
  },
  "kernelspec": {
   "display_name": "Python 3.8.11 64-bit ('base': conda)",
   "name": "python3"
  },
  "language_info": {
   "codemirror_mode": {
    "name": "ipython",
    "version": 3
   },
   "file_extension": ".py",
   "mimetype": "text/x-python",
   "name": "python",
   "nbconvert_exporter": "python",
   "pygments_lexer": "ipython3",
   "version": "3.8.8"
  },
  "orig_nbformat": 2
 },
 "nbformat": 4,
 "nbformat_minor": 2
}
