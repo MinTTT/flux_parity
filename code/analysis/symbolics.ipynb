{
 "cells": [
  {
   "cell_type": "code",
   "execution_count": null,
   "metadata": {},
   "outputs": [],
   "source": [
    "j"
   ]
  },
  {
   "cell_type": "code",
   "execution_count": 1,
   "metadata": {},
   "outputs": [],
   "source": [
    "import sympy as sp \n",
    "import numpy as np  \n",
    "import altair as alt "
   ]
  },
  {
   "cell_type": "markdown",
   "metadata": {},
   "source": [
    "# Solving steady state expression for λ"
   ]
  },
  {
   "cell_type": "code",
   "execution_count": 3,
   "metadata": {},
   "outputs": [
    {
     "ename": "NameError",
     "evalue": "name 'dmu_dphiR' is not defined",
     "output_type": "error",
     "traceback": [
      "\u001b[0;31m---------------------------------------------------------------------------\u001b[0m",
      "\u001b[0;31mNameError\u001b[0m                                 Traceback (most recent call last)",
      "\u001b[0;32m/var/folders/2q/lvh2zsws3lxckq8xtkn_84z80000gn/T/ipykernel_65028/729103100.py\u001b[0m in \u001b[0;36m<module>\u001b[0;34m\u001b[0m\n\u001b[1;32m     20\u001b[0m \u001b[0;31m# phiR_mu = sp.solve(mu_phiR - mu, phi_R)\u001b[0m\u001b[0;34m\u001b[0m\u001b[0;34m\u001b[0m\u001b[0;34m\u001b[0m\u001b[0m\n\u001b[1;32m     21\u001b[0m \u001b[0;31m# phiR_mu[0]\u001b[0m\u001b[0;34m\u001b[0m\u001b[0;34m\u001b[0m\u001b[0;34m\u001b[0m\u001b[0m\n\u001b[0;32m---> 22\u001b[0;31m \u001b[0mopt_phiR_soln\u001b[0m \u001b[0;34m=\u001b[0m \u001b[0msp\u001b[0m\u001b[0;34m.\u001b[0m\u001b[0msolve\u001b[0m\u001b[0;34m(\u001b[0m\u001b[0mdmu_dphiR\u001b[0m\u001b[0;34m,\u001b[0m \u001b[0mphi_R\u001b[0m\u001b[0;34m)\u001b[0m\u001b[0;34m[\u001b[0m\u001b[0;36m0\u001b[0m\u001b[0;34m]\u001b[0m\u001b[0;34m\u001b[0m\u001b[0;34m\u001b[0m\u001b[0m\n\u001b[0m",
      "\u001b[0;31mNameError\u001b[0m: name 'dmu_dphiR' is not defined"
     ]
    }
   ],
   "source": [
    "# Define the efficiencies\n",
    "gamma_max = sp.Symbol('{{\\gamma^{(max)}}}')\n",
    "nu_max = sp.Symbol(r'{{\\nu^{(max)}}}')\n",
    "phi_R = sp.Symbol('{{\\phi_R}}')\n",
    "Kd = sp.Symbol('{{K_D^{(c_{AA})}}}')\n",
    "mu = sp.Symbol('\\mu')\n",
    "cAA_symb = sp.Symbol('{{c_{AA}}}')\n",
    "Gamma = gamma_max * phi_R\n",
    "Nu = nu_max * (1  - phi_R)\n",
    "cAA = -1 + (nu_max * (1 - phi_R)) / (mu)\n",
    "eq = gamma_max * phi_R * cAA / (cAA + Kd)\n",
    "mu_soln = sp.solve(eq - mu, mu)[1] \n",
    "dmu_dphir = sp.diff(mu_soln, phi_R)\n",
    "# phiR_soln = sp.solve(dmu_dphir, phi_R)[0]\n",
    "cAA_eq = (nu_max * (1 - phi_R) / (gamma_max * phi_R)) * (1 + Kd / cAA_symb) - 1\n",
    "cAA_soln = sp.solve(cAA_eq - cAA_symb, cAA_symb)[0]\n",
    "# cAA_soln = ((Nu - Gamma) + sp.sqrt((Gamma - Nu)**2 + 4 * Gamma * Nu * Kd))/(2 * Gamma) \n",
    "# mu_soln = (Gamma + Nu - sp.sqrt((Gamma + Nu)**2 - 4 * (1 - Kd) * Gamma * Nu)) / (2 * (1 - Kd))\n",
    "# mu_phiR = Gamma * (1 + (Kd * mu) / (Nu - mu))**-1\n",
    "# phiR_mu = sp.solve(mu_phiR - mu, phi_R)\n",
    "# phiR_mu[0]\n",
    "opt_phiR_soln = sp.solve(dmu_dphiR, phi_R)[0]"
   ]
  },
  {
   "cell_type": "markdown",
   "metadata": {},
   "source": [
    "# Modeling ppGpp activity"
   ]
  },
  {
   "cell_type": "code",
   "execution_count": null,
   "metadata": {},
   "outputs": [],
   "source": []
  },
  {
   "cell_type": "code",
   "execution_count": 2,
   "metadata": {},
   "outputs": [],
   "source": [
    "gamma_max = sp.Symbol('{{\\gamma_{max}}}')\n",
    "nu_max = sp.Symbol('{{\\nu_{max}}}')\n",
    "Taa = sp.Symbol('{{T_{AA}}}')\n",
    "Taa_star = sp.Symbol('{{T_{AA}^*}}')\n",
    "Kd_Taa = sp.Symbol('{{K_D^{T_{AA}}}}')\n",
    "Kd_Taa_star = sp.Symbol('{{K_D^{T_{AA}^*}}}')\n",
    "tau = sp.Symbol('{{\\tau}}')\n",
    "phiRb = sp.Symbol('{{\\phi_Rb}}')\n",
    "lam = sp.Symbol('{{\\lam}}')\n",
    "M = sp.Symbol('{{M}}')"
   ]
  },
  {
   "cell_type": "code",
   "execution_count": 15,
   "metadata": {},
   "outputs": [
    {
     "data": {
      "text/latex": [
       "$\\displaystyle \\frac{{{\\gamma_{max}}} {{\\phi_R}} \\left(\\frac{{{\n",
       "u_{max}}} \\left(1 - {{\\phi_R}}\\right) \\left(\\frac{{{\n",
       "u_{max}}} \\left(1 - {{\\phi_R}}\\right)}{2 {{\\mu}}} - \\frac{{{K_D^{T_{AA}}}}}{2} + \\frac{\\sqrt{- 4 {{K_D^{T_{AA}}}} + \\left(- \\frac{{{\n",
       "u_{max}}} \\left(1 - {{\\phi_R}}\\right)}{{{\\mu}}} + {{K_D^{T_{AA}}}} + 1\\right)^{2}}}{2} - \\frac{1}{2}\\right)}{{{\\mu}} \\left(\\frac{{{\n",
       "u_{max}}} \\left(1 - {{\\phi_R}}\\right)}{2 {{\\mu}}} + \\frac{{{K_D^{T_{AA}}}}}{2} + \\frac{\\sqrt{- 4 {{K_D^{T_{AA}}}} + \\left(- \\frac{{{\n",
       "u_{max}}} \\left(1 - {{\\phi_R}}\\right)}{{{\\mu}}} + {{K_D^{T_{AA}}}} + 1\\right)^{2}}}{2} - \\frac{1}{2}\\right)} - 1\\right)^{2}}{\\left({{\tau}} + \\frac{\\frac{{{\n",
       "u_{max}}} \\left(1 - {{\\phi_R}}\\right) \\left(\\frac{{{\n",
       "u_{max}}} \\left(1 - {{\\phi_R}}\\right)}{2 {{\\mu}}} - \\frac{{{K_D^{T_{AA}}}}}{2} + \\frac{\\sqrt{- 4 {{K_D^{T_{AA}}}} + \\left(- \\frac{{{\n",
       "u_{max}}} \\left(1 - {{\\phi_R}}\\right)}{{{\\mu}}} + {{K_D^{T_{AA}}}} + 1\\right)^{2}}}{2} - \\frac{1}{2}\\right)}{{{\\mu}} \\left(\\frac{{{\n",
       "u_{max}}} \\left(1 - {{\\phi_R}}\\right)}{2 {{\\mu}}} + \\frac{{{K_D^{T_{AA}}}}}{2} + \\frac{\\sqrt{- 4 {{K_D^{T_{AA}}}} + \\left(- \\frac{{{\n",
       "u_{max}}} \\left(1 - {{\\phi_R}}\\right)}{{{\\mu}}} + {{K_D^{T_{AA}}}} + 1\\right)^{2}}}{2} - \\frac{1}{2}\\right)} - 1}{\\frac{{{\n",
       "u_{max}}} \\left(1 - {{\\phi_R}}\\right)}{2 {{\\mu}}} - \\frac{{{K_D^{T_{AA}}}}}{2} + \\frac{\\sqrt{- 4 {{K_D^{T_{AA}}}} + \\left(- \\frac{{{\n",
       "u_{max}}} \\left(1 - {{\\phi_R}}\\right)}{{{\\mu}}} + {{K_D^{T_{AA}}}} + 1\\right)^{2}}}{2} - \\frac{1}{2}}\\right) \\left(\\frac{{{\n",
       "u_{max}}} \\left(1 - {{\\phi_R}}\\right) \\left(\\frac{{{\n",
       "u_{max}}} \\left(1 - {{\\phi_R}}\\right)}{2 {{\\mu}}} - \\frac{{{K_D^{T_{AA}}}}}{2} + \\frac{\\sqrt{- 4 {{K_D^{T_{AA}}}} + \\left(- \\frac{{{\n",
       "u_{max}}} \\left(1 - {{\\phi_R}}\\right)}{{{\\mu}}} + {{K_D^{T_{AA}}}} + 1\\right)^{2}}}{2} - \\frac{1}{2}\\right)}{{{\\mu}} \\left(\\frac{{{\n",
       "u_{max}}} \\left(1 - {{\\phi_R}}\\right)}{2 {{\\mu}}} + \\frac{{{K_D^{T_{AA}}}}}{2} + \\frac{\\sqrt{- 4 {{K_D^{T_{AA}}}} + \\left(- \\frac{{{\n",
       "u_{max}}} \\left(1 - {{\\phi_R}}\\right)}{{{\\mu}}} + {{K_D^{T_{AA}}}} + 1\\right)^{2}}}{2} - \\frac{1}{2}\\right)} + {{K_D^{T_{AA}^*}}} - 1\\right) \\left(\\frac{{{\n",
       "u_{max}}} \\left(1 - {{\\phi_R}}\\right)}{2 {{\\mu}}} - \\frac{{{K_D^{T_{AA}}}}}{2} + \\frac{\\sqrt{- 4 {{K_D^{T_{AA}}}} + \\left(- \\frac{{{\n",
       "u_{max}}} \\left(1 - {{\\phi_R}}\\right)}{{{\\mu}}} + {{K_D^{T_{AA}}}} + 1\\right)^{2}}}{2} - \\frac{1}{2}\\right)}$"
      ],
      "text/plain": [
       "{{\\gamma_{max}}}*{{\\phi_R}}*({{\n",
       "u_{max}}}*(1 - {{\\phi_R}})*({{\n",
       "u_{max}}}*(1 - {{\\phi_R}})/(2*{{\\mu}}) - {{K_D^{T_{AA}}}}/2 + sqrt(-4*{{K_D^{T_{AA}}}} + (-{{\n",
       "u_{max}}}*(1 - {{\\phi_R}})/{{\\mu}} + {{K_D^{T_{AA}}}} + 1)**2)/2 - 1/2)/({{\\mu}}*({{\n",
       "u_{max}}}*(1 - {{\\phi_R}})/(2*{{\\mu}}) + {{K_D^{T_{AA}}}}/2 + sqrt(-4*{{K_D^{T_{AA}}}} + (-{{\n",
       "u_{max}}}*(1 - {{\\phi_R}})/{{\\mu}} + {{K_D^{T_{AA}}}} + 1)**2)/2 - 1/2)) - 1)**2/(({{\tau}} + ({{\n",
       "u_{max}}}*(1 - {{\\phi_R}})*({{\n",
       "u_{max}}}*(1 - {{\\phi_R}})/(2*{{\\mu}}) - {{K_D^{T_{AA}}}}/2 + sqrt(-4*{{K_D^{T_{AA}}}} + (-{{\n",
       "u_{max}}}*(1 - {{\\phi_R}})/{{\\mu}} + {{K_D^{T_{AA}}}} + 1)**2)/2 - 1/2)/({{\\mu}}*({{\n",
       "u_{max}}}*(1 - {{\\phi_R}})/(2*{{\\mu}}) + {{K_D^{T_{AA}}}}/2 + sqrt(-4*{{K_D^{T_{AA}}}} + (-{{\n",
       "u_{max}}}*(1 - {{\\phi_R}})/{{\\mu}} + {{K_D^{T_{AA}}}} + 1)**2)/2 - 1/2)) - 1)/({{\n",
       "u_{max}}}*(1 - {{\\phi_R}})/(2*{{\\mu}}) - {{K_D^{T_{AA}}}}/2 + sqrt(-4*{{K_D^{T_{AA}}}} + (-{{\n",
       "u_{max}}}*(1 - {{\\phi_R}})/{{\\mu}} + {{K_D^{T_{AA}}}} + 1)**2)/2 - 1/2))*({{\n",
       "u_{max}}}*(1 - {{\\phi_R}})*({{\n",
       "u_{max}}}*(1 - {{\\phi_R}})/(2*{{\\mu}}) - {{K_D^{T_{AA}}}}/2 + sqrt(-4*{{K_D^{T_{AA}}}} + (-{{\n",
       "u_{max}}}*(1 - {{\\phi_R}})/{{\\mu}} + {{K_D^{T_{AA}}}} + 1)**2)/2 - 1/2)/({{\\mu}}*({{\n",
       "u_{max}}}*(1 - {{\\phi_R}})/(2*{{\\mu}}) + {{K_D^{T_{AA}}}}/2 + sqrt(-4*{{K_D^{T_{AA}}}} + (-{{\n",
       "u_{max}}}*(1 - {{\\phi_R}})/{{\\mu}} + {{K_D^{T_{AA}}}} + 1)**2)/2 - 1/2)) + {{K_D^{T_{AA}^*}}} - 1)*({{\n",
       "u_{max}}}*(1 - {{\\phi_R}})/(2*{{\\mu}}) - {{K_D^{T_{AA}}}}/2 + sqrt(-4*{{K_D^{T_{AA}}}} + (-{{\n",
       "u_{max}}}*(1 - {{\\phi_R}})/{{\\mu}} + {{K_D^{T_{AA}}}} + 1)**2)/2 - 1/2))"
      ]
     },
     "execution_count": 15,
     "metadata": {},
     "output_type": "execute_result"
    }
   ],
   "source": [
    "gamma = gamma_max * (Taa_star / (Taa_star + Kd_Taa_star))\n",
    "nu = nu_max * (Taa / (Taa + Kd_Taa))\n",
    "dM_dt = gamma * phi_Rb * M"
   ]
  },
  {
   "cell_type": "code",
   "execution_count": 3,
   "metadata": {},
   "outputs": [
    {
     "data": {
      "text/latex": [
       "$\\displaystyle -1$"
      ],
      "text/plain": [
       "-1"
      ]
     },
     "execution_count": 3,
     "metadata": {},
     "output_type": "execute_result"
    }
   ],
   "source": [
    "x = sp.Symbol('x')\n",
    "y= sp.Symbol('y')\n",
    "eq = (x - y) / (y - x)\n",
    "eq.simplify()"
   ]
  },
  {
   "cell_type": "code",
   "execution_count": null,
   "metadata": {},
   "outputs": [],
   "source": []
  }
 ],
 "metadata": {
  "interpreter": {
   "hash": "40d3a090f54c6569ab1632332b64b2c03c39dcf918b08424e98f38b5ae0af88f"
  },
  "kernelspec": {
   "display_name": "Python 3.8.11 64-bit ('base': conda)",
   "name": "python3"
  },
  "language_info": {
   "codemirror_mode": {
    "name": "ipython",
    "version": 3
   },
   "file_extension": ".py",
   "mimetype": "text/x-python",
   "name": "python",
   "nbconvert_exporter": "python",
   "pygments_lexer": "ipython3",
   "version": "3.8.11"
  },
  "orig_nbformat": 2
 },
 "nbformat": 4,
 "nbformat_minor": 2
}
