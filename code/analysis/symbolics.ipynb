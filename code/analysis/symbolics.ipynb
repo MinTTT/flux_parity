{
 "cells": [
  {
   "cell_type": "code",
   "execution_count": 1,
   "metadata": {},
   "outputs": [],
   "source": [
    "import sympy as sp \n",
    "import numpy as np  \n"
   ]
  },
  {
   "cell_type": "markdown",
   "metadata": {},
   "source": [
    "# Solving steady state expression for λ"
   ]
  },
  {
   "cell_type": "code",
   "execution_count": 2,
   "metadata": {},
   "outputs": [
    {
     "ename": "IndexError",
     "evalue": "list index out of range",
     "output_type": "error",
     "traceback": [
      "\u001b[0;31m---------------------------------------------------------------------------\u001b[0m",
      "\u001b[0;31mIndexError\u001b[0m                                Traceback (most recent call last)",
      "\u001b[0;32m<ipython-input-2-c91a3dc8dbef>\u001b[0m in \u001b[0;36m<module>\u001b[0;34m\u001b[0m\n\u001b[1;32m     43\u001b[0m \u001b[0;31m# opt_lam_soln = (-term_b + sp.sqrt(term_b**2 + 4 * term_a * term_c)) / (2 * term_a)\u001b[0m\u001b[0;34m\u001b[0m\u001b[0;34m\u001b[0m\u001b[0;34m\u001b[0m\u001b[0m\n\u001b[1;32m     44\u001b[0m \u001b[0mphi_R_soln\u001b[0m \u001b[0;34m=\u001b[0m \u001b[0msp\u001b[0m\u001b[0;34m.\u001b[0m\u001b[0msolve\u001b[0m\u001b[0;34m(\u001b[0m\u001b[0mopt_eq\u001b[0m\u001b[0;34m,\u001b[0m \u001b[0mphi_R\u001b[0m\u001b[0;34m)\u001b[0m\u001b[0;34m\u001b[0m\u001b[0;34m\u001b[0m\u001b[0m\n\u001b[0;32m---> 45\u001b[0;31m \u001b[0mphi_R_soln\u001b[0m\u001b[0;34m[\u001b[0m\u001b[0;36m0\u001b[0m\u001b[0;34m]\u001b[0m\u001b[0;34m\u001b[0m\u001b[0;34m\u001b[0m\u001b[0m\n\u001b[0m",
      "\u001b[0;31mIndexError\u001b[0m: list index out of range"
     ]
    }
   ],
   "source": [
    "# Define the efficiencies\n",
    "gamma_max = sp.Symbol('{{\\gamma^{(max)}}}')\n",
    "nu_max = sp.Symbol(r'{{\\nu^{(max)}}}')\n",
    "\n",
    "# Resource Allocation\n",
    "phi_P = sp.Symbol('{{\\phi_P}}')\n",
    "phi_R = sp.Symbol('{{\\phi_R}}')\n",
    "phi_O = sp.Symbol('{{\\phi_O}}')\n",
    "\n",
    "# Active fraction of ribosomes\n",
    "fa = sp.Symbol('{{f_a}}')\n",
    "\n",
    "# Dissociation constant\n",
    "Kd = sp.Symbol('{{K_D}}')\n",
    "\n",
    "# Growth rate\n",
    "lam = sp.Symbol('{{\\lambda}}')\n",
    "\n",
    "# Define the equations\n",
    "_phi_P = 1 - phi_O - phi_R\n",
    "c_aa = (nu_max * phi_P / lam) - 1\n",
    "gamma = gamma_max  * (c_aa / (c_aa + Kd))\n",
    "\n",
    "# Define the equation for the growth rate\n",
    "term_a = Kd - 1\n",
    "term_b = nu_max * _phi_P + gamma_max * phi_R \n",
    "term_c = nu_max * _phi_P * gamma_max * phi_R\n",
    "lam_soln = (-term_b + sp.sqrt(term_b**2 + 4 * term_a * term_c)) / (2 * term_a)\n",
    "lam_soln = lam_soln.simplify()\n",
    "eq = lam - phi_R * gamma \n",
    "phi_R_soln = sp.solve(eq, phi_R)[0].factor()\n",
    "\n",
    "# Compute the optimal allocation for phi_R\n",
    "dlam_dphiR = sp.diff(lam_soln, phi_R)\n",
    "opt_phiR = sp.solve(dlam_dphiR, phi_R)[0]\n",
    "\n",
    "_phi_P = 1 - phi_O - opt_phiR\n",
    "opt_eq = lam - opt_phiR * gamma \n",
    "\n",
    "# term_a = Kd - 1\n",
    "# term_b = nu_max * _phi_P + gamma_max * opt_phiR\n",
    "# term_c = nu_max * _phi_P * gamma_max * opt_phiR\n",
    "# opt_lam_soln = (-term_b + sp.sqrt(term_b**2 + 4 * term_a * term_c)) / (2 * term_a)\n",
    "phi_R_soln = sp.solve(opt_eq, phi_R)\n",
    "phi_R_soln[0]"
   ]
  },
  {
   "cell_type": "code",
   "execution_count": 3,
   "metadata": {},
   "outputs": [
    {
     "data": {
      "text/latex": "$\\displaystyle \\frac{\\left({{\\phi_O}} - 1\\right) \\left(- {{\\nu^{(max)}}} \\left(- 2 {{K_D}} {{\\gamma^{(max)}}} + {{\\gamma^{(max)}}} + {{\\nu^{(max)}}}\\right) + \\sqrt{{{K_D}} {{\\gamma^{(max)}}} {{\\nu^{(max)}}}} \\left(- {{\\gamma^{(max)}}} + {{\\nu^{(max)}}}\\right)\\right)}{- 4 {{K_D}} {{\\gamma^{(max)}}} {{\\nu^{(max)}}} + \\left({{\\gamma^{(max)}}}\\right)^{2} + 2 {{\\gamma^{(max)}}} {{\\nu^{(max)}}} + \\left({{\\nu^{(max)}}}\\right)^{2}}$",
      "text/plain": "({{\\phi_O}} - 1)*(-{{\\nu^{(max)}}}*(-2*{{K_D}}*{{\\gamma^{(max)}}} + {{\\gamma^{(max)}}} + {{\\nu^{(max)}}}) + sqrt({{K_D}}*{{\\gamma^{(max)}}}*{{\\nu^{(max)}}})*(-{{\\gamma^{(max)}}} + {{\\nu^{(max)}}}))/(-4*{{K_D}}*{{\\gamma^{(max)}}}*{{\\nu^{(max)}}} + {{\\gamma^{(max)}}}**2 + 2*{{\\gamma^{(max)}}}*{{\\nu^{(max)}}} + {{\\nu^{(max)}}}**2)"
     },
     "execution_count": 3,
     "metadata": {},
     "output_type": "execute_result"
    }
   ],
   "source": [
    "opt_phiR"
   ]
  },
  {
   "cell_type": "markdown",
   "metadata": {},
   "source": [
    "# Piecewise\n"
   ]
  },
  {
   "cell_type": "code",
   "execution_count": null,
   "metadata": {},
   "outputs": [
    {
     "data": {
      "text/latex": "$\\displaystyle \\frac{{{\\lambda}} \\left(- {{K_D}} {{\\lambda}} + {{\\lambda}} - {{\\nu^{(max)}}} {{\\phi_P}}\\right)}{{{\\gamma^{(max)}}} \\left({{\\lambda}} - {{\\nu^{(max)}}} {{\\phi_P}}\\right)}$",
      "text/plain": [
       "{{\\lambda}}*(-{{K_D}}*{{\\lambda}} + {{\\lambda}} - {{\\nu^{(max)}}}*{{\\phi_P}})/({{\\gamma^{(max)}}}*({{\\lambda}} - {{\\nu^{(max)}}}*{{\\phi_P}}))"
      ]
     },
     "execution_count": 60,
     "metadata": {},
     "output_type": "execute_result"
    }
   ],
   "source": [
    "c_aa = (nu_max * phi_P / lam) - 1\n",
    "gamma = gamma_max  * (c_aa / (c_aa + Kd))\n",
    "eq = lam - phi_R * gamma\n",
    "phi_R_soln = sp.solve(eq, phi_R)[0]\n",
    "phi_R_soln"
   ]
  },
  {
   "cell_type": "code",
   "execution_count": null,
   "metadata": {},
   "outputs": [
    {
     "data": {
      "text/latex": "$\\displaystyle \\frac{- 4 {{K_D}}^{2} {{\\gamma^{(max)}}} {{\\lambda}}^{2} {{\\nu^{(max)}}} + {{K_D}} \\left({{\\gamma^{(max)}}}\\right)^{2} {{\\lambda}}^{2} + 2 {{K_D}} \\left({{\\gamma^{(max)}}}\\right)^{2} {{\\lambda}} {{\\nu^{(max)}}} {{\\phi_O}} - 2 {{K_D}} \\left({{\\gamma^{(max)}}}\\right)^{2} {{\\lambda}} {{\\nu^{(max)}}} + 2 {{K_D}} \\left({{\\gamma^{(max)}}}\\right)^{2} \\left({{\\nu^{(max)}}}\\right)^{2} {{\\phi_O}}^{2} - 4 {{K_D}} \\left({{\\gamma^{(max)}}}\\right)^{2} \\left({{\\nu^{(max)}}}\\right)^{2} {{\\phi_O}} + 2 {{K_D}} \\left({{\\gamma^{(max)}}}\\right)^{2} \\left({{\\nu^{(max)}}}\\right)^{2} + 6 {{K_D}} {{\\gamma^{(max)}}} {{\\lambda}}^{2} {{\\nu^{(max)}}} + 4 {{K_D}} {{\\gamma^{(max)}}} {{\\lambda}} \\left({{\\nu^{(max)}}}\\right)^{2} {{\\phi_O}} - 4 {{K_D}} {{\\gamma^{(max)}}} {{\\lambda}} \\left({{\\nu^{(max)}}}\\right)^{2} + {{K_D}} {{\\lambda}}^{2} \\left({{\\nu^{(max)}}}\\right)^{2} - \\left({{\\gamma^{(max)}}}\\right)^{2} {{\\lambda}}^{2} - 2 \\left({{\\gamma^{(max)}}}\\right)^{2} {{\\lambda}} {{\\nu^{(max)}}} {{\\phi_O}} + 2 \\left({{\\gamma^{(max)}}}\\right)^{2} {{\\lambda}} {{\\nu^{(max)}}} - \\left({{\\gamma^{(max)}}}\\right)^{2} \\left({{\\nu^{(max)}}}\\right)^{2} {{\\phi_O}}^{2} + 2 \\left({{\\gamma^{(max)}}}\\right)^{2} \\left({{\\nu^{(max)}}}\\right)^{2} {{\\phi_O}} - \\left({{\\gamma^{(max)}}}\\right)^{2} \\left({{\\nu^{(max)}}}\\right)^{2} - 2 {{\\gamma^{(max)}}} {{\\lambda}}^{2} {{\\nu^{(max)}}} - 3 {{\\gamma^{(max)}}} {{\\lambda}} \\left({{\\nu^{(max)}}}\\right)^{2} {{\\phi_O}} + 3 {{\\gamma^{(max)}}} {{\\lambda}} \\left({{\\nu^{(max)}}}\\right)^{2} - {{\\gamma^{(max)}}} \\left({{\\nu^{(max)}}}\\right)^{3} {{\\phi_O}}^{2} + 2 {{\\gamma^{(max)}}} \\left({{\\nu^{(max)}}}\\right)^{3} {{\\phi_O}} - {{\\gamma^{(max)}}} \\left({{\\nu^{(max)}}}\\right)^{3} - {{\\lambda}}^{2} \\left({{\\nu^{(max)}}}\\right)^{2} - {{\\lambda}} \\left({{\\nu^{(max)}}}\\right)^{3} {{\\phi_O}} + {{\\lambda}} \\left({{\\nu^{(max)}}}\\right)^{3} + \\sqrt{{{K_D}} {{\\gamma^{(max)}}} {{\\nu^{(max)}}}} \\left(- \\left({{\\gamma^{(max)}}}\\right)^{2} {{\\lambda}} {{\\phi_O}} + \\left({{\\gamma^{(max)}}}\\right)^{2} {{\\lambda}} - \\left({{\\gamma^{(max)}}}\\right)^{2} {{\\nu^{(max)}}} {{\\phi_O}}^{2} + 2 \\left({{\\gamma^{(max)}}}\\right)^{2} {{\\nu^{(max)}}} {{\\phi_O}} - \\left({{\\gamma^{(max)}}}\\right)^{2} {{\\nu^{(max)}}} + {{\\gamma^{(max)}}} {{\\lambda}} {{\\nu^{(max)}}} {{\\phi_O}} - {{\\gamma^{(max)}}} {{\\lambda}} {{\\nu^{(max)}}} + {{\\gamma^{(max)}}} \\left({{\\nu^{(max)}}}\\right)^{2} {{\\phi_O}}^{2} - 2 {{\\gamma^{(max)}}} \\left({{\\nu^{(max)}}}\\right)^{2} {{\\phi_O}} + {{\\gamma^{(max)}}} \\left({{\\nu^{(max)}}}\\right)^{2}\\right)}{{{\\nu^{(max)}}} \\left(- 2 {{K_D}} \\left({{\\gamma^{(max)}}}\\right)^{2} {{\\nu^{(max)}}} {{\\phi_O}} + 2 {{K_D}} \\left({{\\gamma^{(max)}}}\\right)^{2} {{\\nu^{(max)}}} - 4 {{K_D}} {{\\gamma^{(max)}}} {{\\lambda}} {{\\nu^{(max)}}} + \\left({{\\gamma^{(max)}}}\\right)^{2} {{\\lambda}} + \\left({{\\gamma^{(max)}}}\\right)^{2} {{\\nu^{(max)}}} {{\\phi_O}} - \\left({{\\gamma^{(max)}}}\\right)^{2} {{\\nu^{(max)}}} + 2 {{\\gamma^{(max)}}} {{\\lambda}} {{\\nu^{(max)}}} + {{\\gamma^{(max)}}} \\left({{\\nu^{(max)}}}\\right)^{2} {{\\phi_O}} - {{\\gamma^{(max)}}} \\left({{\\nu^{(max)}}}\\right)^{2} + {{\\lambda}} \\left({{\\nu^{(max)}}}\\right)^{2} + \\sqrt{{{K_D}} {{\\gamma^{(max)}}} {{\\nu^{(max)}}}} \\left(\\left({{\\gamma^{(max)}}}\\right)^{2} {{\\phi_O}} - \\left({{\\gamma^{(max)}}}\\right)^{2} - {{\\gamma^{(max)}}} {{\\nu^{(max)}}} {{\\phi_O}} + {{\\gamma^{(max)}}} {{\\nu^{(max)}}}\\right)\\right)}$",
      "text/plain": [
       "(-4*{{K_D}}**2*{{\\gamma^{(max)}}}*{{\\lambda}}**2*{{\\nu^{(max)}}} + {{K_D}}*{{\\gamma^{(max)}}}**2*{{\\lambda}}**2 + 2*{{K_D}}*{{\\gamma^{(max)}}}**2*{{\\lambda}}*{{\\nu^{(max)}}}*{{\\phi_O}} - 2*{{K_D}}*{{\\gamma^{(max)}}}**2*{{\\lambda}}*{{\\nu^{(max)}}} + 2*{{K_D}}*{{\\gamma^{(max)}}}**2*{{\\nu^{(max)}}}**2*{{\\phi_O}}**2 - 4*{{K_D}}*{{\\gamma^{(max)}}}**2*{{\\nu^{(max)}}}**2*{{\\phi_O}} + 2*{{K_D}}*{{\\gamma^{(max)}}}**2*{{\\nu^{(max)}}}**2 + 6*{{K_D}}*{{\\gamma^{(max)}}}*{{\\lambda}}**2*{{\\nu^{(max)}}} + 4*{{K_D}}*{{\\gamma^{(max)}}}*{{\\lambda}}*{{\\nu^{(max)}}}**2*{{\\phi_O}} - 4*{{K_D}}*{{\\gamma^{(max)}}}*{{\\lambda}}*{{\\nu^{(max)}}}**2 + {{K_D}}*{{\\lambda}}**2*{{\\nu^{(max)}}}**2 - {{\\gamma^{(max)}}}**2*{{\\lambda}}**2 - 2*{{\\gamma^{(max)}}}**2*{{\\lambda}}*{{\\nu^{(max)}}}*{{\\phi_O}} + 2*{{\\gamma^{(max)}}}**2*{{\\lambda}}*{{\\nu^{(max)}}} - {{\\gamma^{(max)}}}**2*{{\\nu^{(max)}}}**2*{{\\phi_O}}**2 + 2*{{\\gamma^{(max)}}}**2*{{\\nu^{(max)}}}**2*{{\\phi_O}} - {{\\gamma^{(max)}}}**2*{{\\nu^{(max)}}}**2 - 2*{{\\gamma^{(max)}}}*{{\\lambda}}**2*{{\\nu^{(max)}}} - 3*{{\\gamma^{(max)}}}*{{\\lambda}}*{{\\nu^{(max)}}}**2*{{\\phi_O}} + 3*{{\\gamma^{(max)}}}*{{\\lambda}}*{{\\nu^{(max)}}}**2 - {{\\gamma^{(max)}}}*{{\\nu^{(max)}}}**3*{{\\phi_O}}**2 + 2*{{\\gamma^{(max)}}}*{{\\nu^{(max)}}}**3*{{\\phi_O}} - {{\\gamma^{(max)}}}*{{\\nu^{(max)}}}**3 - {{\\lambda}}**2*{{\\nu^{(max)}}}**2 - {{\\lambda}}*{{\\nu^{(max)}}}**3*{{\\phi_O}} + {{\\lambda}}*{{\\nu^{(max)}}}**3 + sqrt({{K_D}}*{{\\gamma^{(max)}}}*{{\\nu^{(max)}}})*(-{{\\gamma^{(max)}}}**2*{{\\lambda}}*{{\\phi_O}} + {{\\gamma^{(max)}}}**2*{{\\lambda}} - {{\\gamma^{(max)}}}**2*{{\\nu^{(max)}}}*{{\\phi_O}}**2 + 2*{{\\gamma^{(max)}}}**2*{{\\nu^{(max)}}}*{{\\phi_O}} - {{\\gamma^{(max)}}}**2*{{\\nu^{(max)}}} + {{\\gamma^{(max)}}}*{{\\lambda}}*{{\\nu^{(max)}}}*{{\\phi_O}} - {{\\gamma^{(max)}}}*{{\\lambda}}*{{\\nu^{(max)}}} + {{\\gamma^{(max)}}}*{{\\nu^{(max)}}}**2*{{\\phi_O}}**2 - 2*{{\\gamma^{(max)}}}*{{\\nu^{(max)}}}**2*{{\\phi_O}} + {{\\gamma^{(max)}}}*{{\\nu^{(max)}}}**2))/({{\\nu^{(max)}}}*(-2*{{K_D}}*{{\\gamma^{(max)}}}**2*{{\\nu^{(max)}}}*{{\\phi_O}} + 2*{{K_D}}*{{\\gamma^{(max)}}}**2*{{\\nu^{(max)}}} - 4*{{K_D}}*{{\\gamma^{(max)}}}*{{\\lambda}}*{{\\nu^{(max)}}} + {{\\gamma^{(max)}}}**2*{{\\lambda}} + {{\\gamma^{(max)}}}**2*{{\\nu^{(max)}}}*{{\\phi_O}} - {{\\gamma^{(max)}}}**2*{{\\nu^{(max)}}} + 2*{{\\gamma^{(max)}}}*{{\\lambda}}*{{\\nu^{(max)}}} + {{\\gamma^{(max)}}}*{{\\nu^{(max)}}}**2*{{\\phi_O}} - {{\\gamma^{(max)}}}*{{\\nu^{(max)}}}**2 + {{\\lambda}}*{{\\nu^{(max)}}}**2 + sqrt({{K_D}}*{{\\gamma^{(max)}}}*{{\\nu^{(max)}}})*({{\\gamma^{(max)}}}**2*{{\\phi_O}} - {{\\gamma^{(max)}}}**2 - {{\\gamma^{(max)}}}*{{\\nu^{(max)}}}*{{\\phi_O}} + {{\\gamma^{(max)}}}*{{\\nu^{(max)}}})))"
      ]
     },
     "execution_count": 58,
     "metadata": {},
     "output_type": "execute_result"
    }
   ],
   "source": [
    "sp.collect(phi_R_soln[0], sp.sqrt(Kd * gamma_max * nu_max))"
   ]
  },
  {
   "cell_type": "code",
   "execution_count": 59,
   "metadata": {},
   "outputs": [
    {
     "data": {
      "text/latex": "$\\displaystyle - \\frac{{{\\gamma^{(max)}}} {{\\lambda}} + {{\\gamma^{(max)}}} {{\\nu^{(max)}}} {{\\phi_O}} - {{\\gamma^{(max)}}} {{\\nu^{(max)}}} - {{\\lambda}} {{\\nu^{(max)}}} + \\sqrt{- 4 {{K_D}} {{\\gamma^{(max)}}} {{\\lambda}}^{2} {{\\nu^{(max)}}} + \\left({{\\gamma^{(max)}}}\\right)^{2} {{\\lambda}}^{2} + 2 \\left({{\\gamma^{(max)}}}\\right)^{2} {{\\lambda}} {{\\nu^{(max)}}} {{\\phi_O}} - 2 \\left({{\\gamma^{(max)}}}\\right)^{2} {{\\lambda}} {{\\nu^{(max)}}} + \\left({{\\gamma^{(max)}}}\\right)^{2} \\left({{\\nu^{(max)}}}\\right)^{2} {{\\phi_O}}^{2} - 2 \\left({{\\gamma^{(max)}}}\\right)^{2} \\left({{\\nu^{(max)}}}\\right)^{2} {{\\phi_O}} + \\left({{\\gamma^{(max)}}}\\right)^{2} \\left({{\\nu^{(max)}}}\\right)^{2} + 2 {{\\gamma^{(max)}}} {{\\lambda}}^{2} {{\\nu^{(max)}}} + 2 {{\\gamma^{(max)}}} {{\\lambda}} \\left({{\\nu^{(max)}}}\\right)^{2} {{\\phi_O}} - 2 {{\\gamma^{(max)}}} {{\\lambda}} \\left({{\\nu^{(max)}}}\\right)^{2} + {{\\lambda}}^{2} \\left({{\\nu^{(max)}}}\\right)^{2}}}{2 {{\\gamma^{(max)}}} {{\\nu^{(max)}}}}$",
      "text/plain": [
       "-({{\\gamma^{(max)}}}*{{\\lambda}} + {{\\gamma^{(max)}}}*{{\\nu^{(max)}}}*{{\\phi_O}} - {{\\gamma^{(max)}}}*{{\\nu^{(max)}}} - {{\\lambda}}*{{\\nu^{(max)}}} + sqrt(-4*{{K_D}}*{{\\gamma^{(max)}}}*{{\\lambda}}**2*{{\\nu^{(max)}}} + {{\\gamma^{(max)}}}**2*{{\\lambda}}**2 + 2*{{\\gamma^{(max)}}}**2*{{\\lambda}}*{{\\nu^{(max)}}}*{{\\phi_O}} - 2*{{\\gamma^{(max)}}}**2*{{\\lambda}}*{{\\nu^{(max)}}} + {{\\gamma^{(max)}}}**2*{{\\nu^{(max)}}}**2*{{\\phi_O}}**2 - 2*{{\\gamma^{(max)}}}**2*{{\\nu^{(max)}}}**2*{{\\phi_O}} + {{\\gamma^{(max)}}}**2*{{\\nu^{(max)}}}**2 + 2*{{\\gamma^{(max)}}}*{{\\lambda}}**2*{{\\nu^{(max)}}} + 2*{{\\gamma^{(max)}}}*{{\\lambda}}*{{\\nu^{(max)}}}**2*{{\\phi_O}} - 2*{{\\gamma^{(max)}}}*{{\\lambda}}*{{\\nu^{(max)}}}**2 + {{\\lambda}}**2*{{\\nu^{(max)}}}**2))/(2*{{\\gamma^{(max)}}}*{{\\nu^{(max)}}})"
      ]
     },
     "execution_count": 59,
     "metadata": {},
     "output_type": "execute_result"
    }
   ],
   "source": [
    "eq = lam - phi_R * gamma \n",
    "phi_R_soln = sp.solve(eq, phi_R)[0].factor()\n",
    "phi_R_soln"
   ]
  },
  {
   "cell_type": "code",
   "execution_count": 51,
   "metadata": {},
   "outputs": [
    {
     "data": {
      "text/latex": "$\\displaystyle - \\frac{4 {{K_D}}^{2} {{\\gamma^{(max)}}} {{\\lambda}}^{2} {{\\nu^{(max)}}} - {{K_D}} \\left({{\\gamma^{(max)}}}\\right)^{2} {{\\lambda}}^{2} - 2 {{K_D}} \\left({{\\gamma^{(max)}}}\\right)^{2} {{\\lambda}} {{\\nu^{(max)}}} {{\\phi_O}} + 2 {{K_D}} \\left({{\\gamma^{(max)}}}\\right)^{2} {{\\lambda}} {{\\nu^{(max)}}} - 2 {{K_D}} \\left({{\\gamma^{(max)}}}\\right)^{2} \\left({{\\nu^{(max)}}}\\right)^{2} {{\\phi_O}}^{2} + 4 {{K_D}} \\left({{\\gamma^{(max)}}}\\right)^{2} \\left({{\\nu^{(max)}}}\\right)^{2} {{\\phi_O}} - 2 {{K_D}} \\left({{\\gamma^{(max)}}}\\right)^{2} \\left({{\\nu^{(max)}}}\\right)^{2} - 6 {{K_D}} {{\\gamma^{(max)}}} {{\\lambda}}^{2} {{\\nu^{(max)}}} - 4 {{K_D}} {{\\gamma^{(max)}}} {{\\lambda}} \\left({{\\nu^{(max)}}}\\right)^{2} {{\\phi_O}} + 4 {{K_D}} {{\\gamma^{(max)}}} {{\\lambda}} \\left({{\\nu^{(max)}}}\\right)^{2} - {{K_D}} {{\\lambda}}^{2} \\left({{\\nu^{(max)}}}\\right)^{2} + \\left({{\\gamma^{(max)}}}\\right)^{2} {{\\lambda}}^{2} + 2 \\left({{\\gamma^{(max)}}}\\right)^{2} {{\\lambda}} {{\\nu^{(max)}}} {{\\phi_O}} - 2 \\left({{\\gamma^{(max)}}}\\right)^{2} {{\\lambda}} {{\\nu^{(max)}}} + \\left({{\\gamma^{(max)}}}\\right)^{2} {{\\lambda}} {{\\phi_O}} \\sqrt{{{K_D}} {{\\gamma^{(max)}}} {{\\nu^{(max)}}}} - \\left({{\\gamma^{(max)}}}\\right)^{2} {{\\lambda}} \\sqrt{{{K_D}} {{\\gamma^{(max)}}} {{\\nu^{(max)}}}} + \\left({{\\gamma^{(max)}}}\\right)^{2} \\left({{\\nu^{(max)}}}\\right)^{2} {{\\phi_O}}^{2} - 2 \\left({{\\gamma^{(max)}}}\\right)^{2} \\left({{\\nu^{(max)}}}\\right)^{2} {{\\phi_O}} + \\left({{\\gamma^{(max)}}}\\right)^{2} \\left({{\\nu^{(max)}}}\\right)^{2} + \\left({{\\gamma^{(max)}}}\\right)^{2} {{\\nu^{(max)}}} {{\\phi_O}}^{2} \\sqrt{{{K_D}} {{\\gamma^{(max)}}} {{\\nu^{(max)}}}} - 2 \\left({{\\gamma^{(max)}}}\\right)^{2} {{\\nu^{(max)}}} {{\\phi_O}} \\sqrt{{{K_D}} {{\\gamma^{(max)}}} {{\\nu^{(max)}}}} + \\left({{\\gamma^{(max)}}}\\right)^{2} {{\\nu^{(max)}}} \\sqrt{{{K_D}} {{\\gamma^{(max)}}} {{\\nu^{(max)}}}} + 2 {{\\gamma^{(max)}}} {{\\lambda}}^{2} {{\\nu^{(max)}}} + 3 {{\\gamma^{(max)}}} {{\\lambda}} \\left({{\\nu^{(max)}}}\\right)^{2} {{\\phi_O}} - 3 {{\\gamma^{(max)}}} {{\\lambda}} \\left({{\\nu^{(max)}}}\\right)^{2} - {{\\gamma^{(max)}}} {{\\lambda}} {{\\nu^{(max)}}} {{\\phi_O}} \\sqrt{{{K_D}} {{\\gamma^{(max)}}} {{\\nu^{(max)}}}} + {{\\gamma^{(max)}}} {{\\lambda}} {{\\nu^{(max)}}} \\sqrt{{{K_D}} {{\\gamma^{(max)}}} {{\\nu^{(max)}}}} + {{\\gamma^{(max)}}} \\left({{\\nu^{(max)}}}\\right)^{3} {{\\phi_O}}^{2} - 2 {{\\gamma^{(max)}}} \\left({{\\nu^{(max)}}}\\right)^{3} {{\\phi_O}} + {{\\gamma^{(max)}}} \\left({{\\nu^{(max)}}}\\right)^{3} - {{\\gamma^{(max)}}} \\left({{\\nu^{(max)}}}\\right)^{2} {{\\phi_O}}^{2} \\sqrt{{{K_D}} {{\\gamma^{(max)}}} {{\\nu^{(max)}}}} + 2 {{\\gamma^{(max)}}} \\left({{\\nu^{(max)}}}\\right)^{2} {{\\phi_O}} \\sqrt{{{K_D}} {{\\gamma^{(max)}}} {{\\nu^{(max)}}}} - {{\\gamma^{(max)}}} \\left({{\\nu^{(max)}}}\\right)^{2} \\sqrt{{{K_D}} {{\\gamma^{(max)}}} {{\\nu^{(max)}}}} + {{\\lambda}}^{2} \\left({{\\nu^{(max)}}}\\right)^{2} + {{\\lambda}} \\left({{\\nu^{(max)}}}\\right)^{3} {{\\phi_O}} - {{\\lambda}} \\left({{\\nu^{(max)}}}\\right)^{3}}{{{\\nu^{(max)}}} \\left(- 2 {{K_D}} \\left({{\\gamma^{(max)}}}\\right)^{2} {{\\nu^{(max)}}} {{\\phi_O}} + 2 {{K_D}} \\left({{\\gamma^{(max)}}}\\right)^{2} {{\\nu^{(max)}}} - 4 {{K_D}} {{\\gamma^{(max)}}} {{\\lambda}} {{\\nu^{(max)}}} + \\left({{\\gamma^{(max)}}}\\right)^{2} {{\\lambda}} + \\left({{\\gamma^{(max)}}}\\right)^{2} {{\\nu^{(max)}}} {{\\phi_O}} - \\left({{\\gamma^{(max)}}}\\right)^{2} {{\\nu^{(max)}}} + \\left({{\\gamma^{(max)}}}\\right)^{2} {{\\phi_O}} \\sqrt{{{K_D}} {{\\gamma^{(max)}}} {{\\nu^{(max)}}}} - \\left({{\\gamma^{(max)}}}\\right)^{2} \\sqrt{{{K_D}} {{\\gamma^{(max)}}} {{\\nu^{(max)}}}} + 2 {{\\gamma^{(max)}}} {{\\lambda}} {{\\nu^{(max)}}} + {{\\gamma^{(max)}}} \\left({{\\nu^{(max)}}}\\right)^{2} {{\\phi_O}} - {{\\gamma^{(max)}}} \\left({{\\nu^{(max)}}}\\right)^{2} - {{\\gamma^{(max)}}} {{\\nu^{(max)}}} {{\\phi_O}} \\sqrt{{{K_D}} {{\\gamma^{(max)}}} {{\\nu^{(max)}}}} + {{\\gamma^{(max)}}} {{\\nu^{(max)}}} \\sqrt{{{K_D}} {{\\gamma^{(max)}}} {{\\nu^{(max)}}}} + {{\\lambda}} \\left({{\\nu^{(max)}}}\\right)^{2}\\right)}$",
      "text/plain": [
       "-(4*{{K_D}}**2*{{\\gamma^{(max)}}}*{{\\lambda}}**2*{{\\nu^{(max)}}} - {{K_D}}*{{\\gamma^{(max)}}}**2*{{\\lambda}}**2 - 2*{{K_D}}*{{\\gamma^{(max)}}}**2*{{\\lambda}}*{{\\nu^{(max)}}}*{{\\phi_O}} + 2*{{K_D}}*{{\\gamma^{(max)}}}**2*{{\\lambda}}*{{\\nu^{(max)}}} - 2*{{K_D}}*{{\\gamma^{(max)}}}**2*{{\\nu^{(max)}}}**2*{{\\phi_O}}**2 + 4*{{K_D}}*{{\\gamma^{(max)}}}**2*{{\\nu^{(max)}}}**2*{{\\phi_O}} - 2*{{K_D}}*{{\\gamma^{(max)}}}**2*{{\\nu^{(max)}}}**2 - 6*{{K_D}}*{{\\gamma^{(max)}}}*{{\\lambda}}**2*{{\\nu^{(max)}}} - 4*{{K_D}}*{{\\gamma^{(max)}}}*{{\\lambda}}*{{\\nu^{(max)}}}**2*{{\\phi_O}} + 4*{{K_D}}*{{\\gamma^{(max)}}}*{{\\lambda}}*{{\\nu^{(max)}}}**2 - {{K_D}}*{{\\lambda}}**2*{{\\nu^{(max)}}}**2 + {{\\gamma^{(max)}}}**2*{{\\lambda}}**2 + 2*{{\\gamma^{(max)}}}**2*{{\\lambda}}*{{\\nu^{(max)}}}*{{\\phi_O}} - 2*{{\\gamma^{(max)}}}**2*{{\\lambda}}*{{\\nu^{(max)}}} + {{\\gamma^{(max)}}}**2*{{\\lambda}}*{{\\phi_O}}*sqrt({{K_D}}*{{\\gamma^{(max)}}}*{{\\nu^{(max)}}}) - {{\\gamma^{(max)}}}**2*{{\\lambda}}*sqrt({{K_D}}*{{\\gamma^{(max)}}}*{{\\nu^{(max)}}}) + {{\\gamma^{(max)}}}**2*{{\\nu^{(max)}}}**2*{{\\phi_O}}**2 - 2*{{\\gamma^{(max)}}}**2*{{\\nu^{(max)}}}**2*{{\\phi_O}} + {{\\gamma^{(max)}}}**2*{{\\nu^{(max)}}}**2 + {{\\gamma^{(max)}}}**2*{{\\nu^{(max)}}}*{{\\phi_O}}**2*sqrt({{K_D}}*{{\\gamma^{(max)}}}*{{\\nu^{(max)}}}) - 2*{{\\gamma^{(max)}}}**2*{{\\nu^{(max)}}}*{{\\phi_O}}*sqrt({{K_D}}*{{\\gamma^{(max)}}}*{{\\nu^{(max)}}}) + {{\\gamma^{(max)}}}**2*{{\\nu^{(max)}}}*sqrt({{K_D}}*{{\\gamma^{(max)}}}*{{\\nu^{(max)}}}) + 2*{{\\gamma^{(max)}}}*{{\\lambda}}**2*{{\\nu^{(max)}}} + 3*{{\\gamma^{(max)}}}*{{\\lambda}}*{{\\nu^{(max)}}}**2*{{\\phi_O}} - 3*{{\\gamma^{(max)}}}*{{\\lambda}}*{{\\nu^{(max)}}}**2 - {{\\gamma^{(max)}}}*{{\\lambda}}*{{\\nu^{(max)}}}*{{\\phi_O}}*sqrt({{K_D}}*{{\\gamma^{(max)}}}*{{\\nu^{(max)}}}) + {{\\gamma^{(max)}}}*{{\\lambda}}*{{\\nu^{(max)}}}*sqrt({{K_D}}*{{\\gamma^{(max)}}}*{{\\nu^{(max)}}}) + {{\\gamma^{(max)}}}*{{\\nu^{(max)}}}**3*{{\\phi_O}}**2 - 2*{{\\gamma^{(max)}}}*{{\\nu^{(max)}}}**3*{{\\phi_O}} + {{\\gamma^{(max)}}}*{{\\nu^{(max)}}}**3 - {{\\gamma^{(max)}}}*{{\\nu^{(max)}}}**2*{{\\phi_O}}**2*sqrt({{K_D}}*{{\\gamma^{(max)}}}*{{\\nu^{(max)}}}) + 2*{{\\gamma^{(max)}}}*{{\\nu^{(max)}}}**2*{{\\phi_O}}*sqrt({{K_D}}*{{\\gamma^{(max)}}}*{{\\nu^{(max)}}}) - {{\\gamma^{(max)}}}*{{\\nu^{(max)}}}**2*sqrt({{K_D}}*{{\\gamma^{(max)}}}*{{\\nu^{(max)}}}) + {{\\lambda}}**2*{{\\nu^{(max)}}}**2 + {{\\lambda}}*{{\\nu^{(max)}}}**3*{{\\phi_O}} - {{\\lambda}}*{{\\nu^{(max)}}}**3)/({{\\nu^{(max)}}}*(-2*{{K_D}}*{{\\gamma^{(max)}}}**2*{{\\nu^{(max)}}}*{{\\phi_O}} + 2*{{K_D}}*{{\\gamma^{(max)}}}**2*{{\\nu^{(max)}}} - 4*{{K_D}}*{{\\gamma^{(max)}}}*{{\\lambda}}*{{\\nu^{(max)}}} + {{\\gamma^{(max)}}}**2*{{\\lambda}} + {{\\gamma^{(max)}}}**2*{{\\nu^{(max)}}}*{{\\phi_O}} - {{\\gamma^{(max)}}}**2*{{\\nu^{(max)}}} + {{\\gamma^{(max)}}}**2*{{\\phi_O}}*sqrt({{K_D}}*{{\\gamma^{(max)}}}*{{\\nu^{(max)}}}) - {{\\gamma^{(max)}}}**2*sqrt({{K_D}}*{{\\gamma^{(max)}}}*{{\\nu^{(max)}}}) + 2*{{\\gamma^{(max)}}}*{{\\lambda}}*{{\\nu^{(max)}}} + {{\\gamma^{(max)}}}*{{\\nu^{(max)}}}**2*{{\\phi_O}} - {{\\gamma^{(max)}}}*{{\\nu^{(max)}}}**2 - {{\\gamma^{(max)}}}*{{\\nu^{(max)}}}*{{\\phi_O}}*sqrt({{K_D}}*{{\\gamma^{(max)}}}*{{\\nu^{(max)}}}) + {{\\gamma^{(max)}}}*{{\\nu^{(max)}}}*sqrt({{K_D}}*{{\\gamma^{(max)}}}*{{\\nu^{(max)}}}) + {{\\lambda}}*{{\\nu^{(max)}}}**2))"
      ]
     },
     "execution_count": 51,
     "metadata": {},
     "output_type": "execute_result"
    }
   ],
   "source": [
    "growth_law = phi_R_soln[0].factor()\n",
    "growth_law"
   ]
  },
  {
   "cell_type": "code",
   "execution_count": 42,
   "metadata": {},
   "outputs": [
    {
     "data": {
      "text/latex": "$\\displaystyle - \\frac{4 {{K_D}} \\left({{\\gamma^{(max)}}}\\right)^{2} {{\\lambda}} {{\\nu^{(max)}}} - 4 {{K_D}} {{\\gamma^{(max)}}} {{\\lambda}} \\left({{\\nu^{(max)}}}\\right)^{2} + 4 {{K_D}} {{\\gamma^{(max)}}} {{\\nu^{(max)}}} \\sqrt{- 4 {{K_D}} {{\\gamma^{(max)}}} {{\\lambda}}^{2} {{\\nu^{(max)}}} + \\left({{\\gamma^{(max)}}}\\right)^{2} {{\\lambda}}^{2} + 2 \\left({{\\gamma^{(max)}}}\\right)^{2} {{\\lambda}} {{\\nu^{(max)}}} {{\\phi_O}} - 2 \\left({{\\gamma^{(max)}}}\\right)^{2} {{\\lambda}} {{\\nu^{(max)}}} + \\left({{\\gamma^{(max)}}}\\right)^{2} \\left({{\\nu^{(max)}}}\\right)^{2} {{\\phi_O}}^{2} - 2 \\left({{\\gamma^{(max)}}}\\right)^{2} \\left({{\\nu^{(max)}}}\\right)^{2} {{\\phi_O}} + \\left({{\\gamma^{(max)}}}\\right)^{2} \\left({{\\nu^{(max)}}}\\right)^{2} + 2 {{\\gamma^{(max)}}} {{\\lambda}}^{2} {{\\nu^{(max)}}} + 2 {{\\gamma^{(max)}}} {{\\lambda}} \\left({{\\nu^{(max)}}}\\right)^{2} {{\\phi_O}} - 2 {{\\gamma^{(max)}}} {{\\lambda}} \\left({{\\nu^{(max)}}}\\right)^{2} + {{\\lambda}}^{2} \\left({{\\nu^{(max)}}}\\right)^{2}} - \\left({{\\gamma^{(max)}}}\\right)^{3} {{\\lambda}} - \\left({{\\gamma^{(max)}}}\\right)^{3} {{\\nu^{(max)}}} {{\\phi_O}} + \\left({{\\gamma^{(max)}}}\\right)^{3} {{\\nu^{(max)}}} - \\left({{\\gamma^{(max)}}}\\right)^{2} {{\\lambda}} {{\\nu^{(max)}}} + 2 \\left({{\\gamma^{(max)}}}\\right)^{2} {{\\nu^{(max)}}} {{\\phi_O}} \\sqrt{{{K_D}} {{\\gamma^{(max)}}} {{\\nu^{(max)}}}} - 2 \\left({{\\gamma^{(max)}}}\\right)^{2} {{\\nu^{(max)}}} \\sqrt{{{K_D}} {{\\gamma^{(max)}}} {{\\nu^{(max)}}}} - \\left({{\\gamma^{(max)}}}\\right)^{2} \\sqrt{- 4 {{K_D}} {{\\gamma^{(max)}}} {{\\lambda}}^{2} {{\\nu^{(max)}}} + \\left({{\\gamma^{(max)}}}\\right)^{2} {{\\lambda}}^{2} + 2 \\left({{\\gamma^{(max)}}}\\right)^{2} {{\\lambda}} {{\\nu^{(max)}}} {{\\phi_O}} - 2 \\left({{\\gamma^{(max)}}}\\right)^{2} {{\\lambda}} {{\\nu^{(max)}}} + \\left({{\\gamma^{(max)}}}\\right)^{2} \\left({{\\nu^{(max)}}}\\right)^{2} {{\\phi_O}}^{2} - 2 \\left({{\\gamma^{(max)}}}\\right)^{2} \\left({{\\nu^{(max)}}}\\right)^{2} {{\\phi_O}} + \\left({{\\gamma^{(max)}}}\\right)^{2} \\left({{\\nu^{(max)}}}\\right)^{2} + 2 {{\\gamma^{(max)}}} {{\\lambda}}^{2} {{\\nu^{(max)}}} + 2 {{\\gamma^{(max)}}} {{\\lambda}} \\left({{\\nu^{(max)}}}\\right)^{2} {{\\phi_O}} - 2 {{\\gamma^{(max)}}} {{\\lambda}} \\left({{\\nu^{(max)}}}\\right)^{2} + {{\\lambda}}^{2} \\left({{\\nu^{(max)}}}\\right)^{2}} + {{\\gamma^{(max)}}} {{\\lambda}} \\left({{\\nu^{(max)}}}\\right)^{2} + {{\\gamma^{(max)}}} \\left({{\\nu^{(max)}}}\\right)^{3} {{\\phi_O}} - {{\\gamma^{(max)}}} \\left({{\\nu^{(max)}}}\\right)^{3} - 2 {{\\gamma^{(max)}}} \\left({{\\nu^{(max)}}}\\right)^{2} {{\\phi_O}} \\sqrt{{{K_D}} {{\\gamma^{(max)}}} {{\\nu^{(max)}}}} + 2 {{\\gamma^{(max)}}} \\left({{\\nu^{(max)}}}\\right)^{2} \\sqrt{{{K_D}} {{\\gamma^{(max)}}} {{\\nu^{(max)}}}} - 2 {{\\gamma^{(max)}}} {{\\nu^{(max)}}} \\sqrt{- 4 {{K_D}} {{\\gamma^{(max)}}} {{\\lambda}}^{2} {{\\nu^{(max)}}} + \\left({{\\gamma^{(max)}}}\\right)^{2} {{\\lambda}}^{2} + 2 \\left({{\\gamma^{(max)}}}\\right)^{2} {{\\lambda}} {{\\nu^{(max)}}} {{\\phi_O}} - 2 \\left({{\\gamma^{(max)}}}\\right)^{2} {{\\lambda}} {{\\nu^{(max)}}} + \\left({{\\gamma^{(max)}}}\\right)^{2} \\left({{\\nu^{(max)}}}\\right)^{2} {{\\phi_O}}^{2} - 2 \\left({{\\gamma^{(max)}}}\\right)^{2} \\left({{\\nu^{(max)}}}\\right)^{2} {{\\phi_O}} + \\left({{\\gamma^{(max)}}}\\right)^{2} \\left({{\\nu^{(max)}}}\\right)^{2} + 2 {{\\gamma^{(max)}}} {{\\lambda}}^{2} {{\\nu^{(max)}}} + 2 {{\\gamma^{(max)}}} {{\\lambda}} \\left({{\\nu^{(max)}}}\\right)^{2} {{\\phi_O}} - 2 {{\\gamma^{(max)}}} {{\\lambda}} \\left({{\\nu^{(max)}}}\\right)^{2} + {{\\lambda}}^{2} \\left({{\\nu^{(max)}}}\\right)^{2}} + {{\\lambda}} \\left({{\\nu^{(max)}}}\\right)^{3} - \\left({{\\nu^{(max)}}}\\right)^{2} \\sqrt{- 4 {{K_D}} {{\\gamma^{(max)}}} {{\\lambda}}^{2} {{\\nu^{(max)}}} + \\left({{\\gamma^{(max)}}}\\right)^{2} {{\\lambda}}^{2} + 2 \\left({{\\gamma^{(max)}}}\\right)^{2} {{\\lambda}} {{\\nu^{(max)}}} {{\\phi_O}} - 2 \\left({{\\gamma^{(max)}}}\\right)^{2} {{\\lambda}} {{\\nu^{(max)}}} + \\left({{\\gamma^{(max)}}}\\right)^{2} \\left({{\\nu^{(max)}}}\\right)^{2} {{\\phi_O}}^{2} - 2 \\left({{\\gamma^{(max)}}}\\right)^{2} \\left({{\\nu^{(max)}}}\\right)^{2} {{\\phi_O}} + \\left({{\\gamma^{(max)}}}\\right)^{2} \\left({{\\nu^{(max)}}}\\right)^{2} + 2 {{\\gamma^{(max)}}} {{\\lambda}}^{2} {{\\nu^{(max)}}} + 2 {{\\gamma^{(max)}}} {{\\lambda}} \\left({{\\nu^{(max)}}}\\right)^{2} {{\\phi_O}} - 2 {{\\gamma^{(max)}}} {{\\lambda}} \\left({{\\nu^{(max)}}}\\right)^{2} + {{\\lambda}}^{2} \\left({{\\nu^{(max)}}}\\right)^{2}}}{2 {{\\gamma^{(max)}}} {{\\nu^{(max)}}} \\left(4 {{K_D}} {{\\gamma^{(max)}}} {{\\nu^{(max)}}} - \\left({{\\gamma^{(max)}}}\\right)^{2} - 2 {{\\gamma^{(max)}}} {{\\nu^{(max)}}} - \\left({{\\nu^{(max)}}}\\right)^{2}\\right)}$",
      "text/plain": [
       "-(4*{{K_D}}*{{\\gamma^{(max)}}}**2*{{\\lambda}}*{{\\nu^{(max)}}} - 4*{{K_D}}*{{\\gamma^{(max)}}}*{{\\lambda}}*{{\\nu^{(max)}}}**2 + 4*{{K_D}}*{{\\gamma^{(max)}}}*{{\\nu^{(max)}}}*sqrt(-4*{{K_D}}*{{\\gamma^{(max)}}}*{{\\lambda}}**2*{{\\nu^{(max)}}} + {{\\gamma^{(max)}}}**2*{{\\lambda}}**2 + 2*{{\\gamma^{(max)}}}**2*{{\\lambda}}*{{\\nu^{(max)}}}*{{\\phi_O}} - 2*{{\\gamma^{(max)}}}**2*{{\\lambda}}*{{\\nu^{(max)}}} + {{\\gamma^{(max)}}}**2*{{\\nu^{(max)}}}**2*{{\\phi_O}}**2 - 2*{{\\gamma^{(max)}}}**2*{{\\nu^{(max)}}}**2*{{\\phi_O}} + {{\\gamma^{(max)}}}**2*{{\\nu^{(max)}}}**2 + 2*{{\\gamma^{(max)}}}*{{\\lambda}}**2*{{\\nu^{(max)}}} + 2*{{\\gamma^{(max)}}}*{{\\lambda}}*{{\\nu^{(max)}}}**2*{{\\phi_O}} - 2*{{\\gamma^{(max)}}}*{{\\lambda}}*{{\\nu^{(max)}}}**2 + {{\\lambda}}**2*{{\\nu^{(max)}}}**2) - {{\\gamma^{(max)}}}**3*{{\\lambda}} - {{\\gamma^{(max)}}}**3*{{\\nu^{(max)}}}*{{\\phi_O}} + {{\\gamma^{(max)}}}**3*{{\\nu^{(max)}}} - {{\\gamma^{(max)}}}**2*{{\\lambda}}*{{\\nu^{(max)}}} + 2*{{\\gamma^{(max)}}}**2*{{\\nu^{(max)}}}*{{\\phi_O}}*sqrt({{K_D}}*{{\\gamma^{(max)}}}*{{\\nu^{(max)}}}) - 2*{{\\gamma^{(max)}}}**2*{{\\nu^{(max)}}}*sqrt({{K_D}}*{{\\gamma^{(max)}}}*{{\\nu^{(max)}}}) - {{\\gamma^{(max)}}}**2*sqrt(-4*{{K_D}}*{{\\gamma^{(max)}}}*{{\\lambda}}**2*{{\\nu^{(max)}}} + {{\\gamma^{(max)}}}**2*{{\\lambda}}**2 + 2*{{\\gamma^{(max)}}}**2*{{\\lambda}}*{{\\nu^{(max)}}}*{{\\phi_O}} - 2*{{\\gamma^{(max)}}}**2*{{\\lambda}}*{{\\nu^{(max)}}} + {{\\gamma^{(max)}}}**2*{{\\nu^{(max)}}}**2*{{\\phi_O}}**2 - 2*{{\\gamma^{(max)}}}**2*{{\\nu^{(max)}}}**2*{{\\phi_O}} + {{\\gamma^{(max)}}}**2*{{\\nu^{(max)}}}**2 + 2*{{\\gamma^{(max)}}}*{{\\lambda}}**2*{{\\nu^{(max)}}} + 2*{{\\gamma^{(max)}}}*{{\\lambda}}*{{\\nu^{(max)}}}**2*{{\\phi_O}} - 2*{{\\gamma^{(max)}}}*{{\\lambda}}*{{\\nu^{(max)}}}**2 + {{\\lambda}}**2*{{\\nu^{(max)}}}**2) + {{\\gamma^{(max)}}}*{{\\lambda}}*{{\\nu^{(max)}}}**2 + {{\\gamma^{(max)}}}*{{\\nu^{(max)}}}**3*{{\\phi_O}} - {{\\gamma^{(max)}}}*{{\\nu^{(max)}}}**3 - 2*{{\\gamma^{(max)}}}*{{\\nu^{(max)}}}**2*{{\\phi_O}}*sqrt({{K_D}}*{{\\gamma^{(max)}}}*{{\\nu^{(max)}}}) + 2*{{\\gamma^{(max)}}}*{{\\nu^{(max)}}}**2*sqrt({{K_D}}*{{\\gamma^{(max)}}}*{{\\nu^{(max)}}}) - 2*{{\\gamma^{(max)}}}*{{\\nu^{(max)}}}*sqrt(-4*{{K_D}}*{{\\gamma^{(max)}}}*{{\\lambda}}**2*{{\\nu^{(max)}}} + {{\\gamma^{(max)}}}**2*{{\\lambda}}**2 + 2*{{\\gamma^{(max)}}}**2*{{\\lambda}}*{{\\nu^{(max)}}}*{{\\phi_O}} - 2*{{\\gamma^{(max)}}}**2*{{\\lambda}}*{{\\nu^{(max)}}} + {{\\gamma^{(max)}}}**2*{{\\nu^{(max)}}}**2*{{\\phi_O}}**2 - 2*{{\\gamma^{(max)}}}**2*{{\\nu^{(max)}}}**2*{{\\phi_O}} + {{\\gamma^{(max)}}}**2*{{\\nu^{(max)}}}**2 + 2*{{\\gamma^{(max)}}}*{{\\lambda}}**2*{{\\nu^{(max)}}} + 2*{{\\gamma^{(max)}}}*{{\\lambda}}*{{\\nu^{(max)}}}**2*{{\\phi_O}} - 2*{{\\gamma^{(max)}}}*{{\\lambda}}*{{\\nu^{(max)}}}**2 + {{\\lambda}}**2*{{\\nu^{(max)}}}**2) + {{\\lambda}}*{{\\nu^{(max)}}}**3 - {{\\nu^{(max)}}}**2*sqrt(-4*{{K_D}}*{{\\gamma^{(max)}}}*{{\\lambda}}**2*{{\\nu^{(max)}}} + {{\\gamma^{(max)}}}**2*{{\\lambda}}**2 + 2*{{\\gamma^{(max)}}}**2*{{\\lambda}}*{{\\nu^{(max)}}}*{{\\phi_O}} - 2*{{\\gamma^{(max)}}}**2*{{\\lambda}}*{{\\nu^{(max)}}} + {{\\gamma^{(max)}}}**2*{{\\nu^{(max)}}}**2*{{\\phi_O}}**2 - 2*{{\\gamma^{(max)}}}**2*{{\\nu^{(max)}}}**2*{{\\phi_O}} + {{\\gamma^{(max)}}}**2*{{\\nu^{(max)}}}**2 + 2*{{\\gamma^{(max)}}}*{{\\lambda}}**2*{{\\nu^{(max)}}} + 2*{{\\gamma^{(max)}}}*{{\\lambda}}*{{\\nu^{(max)}}}**2*{{\\phi_O}} - 2*{{\\gamma^{(max)}}}*{{\\lambda}}*{{\\nu^{(max)}}}**2 + {{\\lambda}}**2*{{\\nu^{(max)}}}**2))/(2*{{\\gamma^{(max)}}}*{{\\nu^{(max)}}}*(4*{{K_D}}*{{\\gamma^{(max)}}}*{{\\nu^{(max)}}} - {{\\gamma^{(max)}}}**2 - 2*{{\\gamma^{(max)}}}*{{\\nu^{(max)}}} - {{\\nu^{(max)}}}**2))"
      ]
     },
     "execution_count": 42,
     "metadata": {},
     "output_type": "execute_result"
    }
   ],
   "source": [
    "_out = phi_R_soln - opt_phiR[0]\n",
    "\n",
    "_out.simplify().factor()"
   ]
  },
  {
   "cell_type": "code",
   "execution_count": 44,
   "metadata": {},
   "outputs": [
    {
     "data": {
      "text/latex": "$\\displaystyle \\frac{- {{\\gamma^{(max)}}} {{\\lambda}} - {{\\gamma^{(max)}}} {{\\nu^{(max)}}} {{\\phi_O}} + {{\\gamma^{(max)}}} {{\\nu^{(max)}}} + {{\\lambda}} {{\\nu^{(max)}}} - \\sqrt{- 4 {{K_D}} {{\\gamma^{(max)}}} {{\\lambda}}^{2} {{\\nu^{(max)}}} + \\left({{\\gamma^{(max)}}}\\right)^{2} {{\\lambda}}^{2} + 2 \\left({{\\gamma^{(max)}}}\\right)^{2} {{\\lambda}} {{\\nu^{(max)}}} {{\\phi_O}} - 2 \\left({{\\gamma^{(max)}}}\\right)^{2} {{\\lambda}} {{\\nu^{(max)}}} + \\left({{\\gamma^{(max)}}}\\right)^{2} \\left({{\\nu^{(max)}}}\\right)^{2} {{\\phi_O}}^{2} - 2 \\left({{\\gamma^{(max)}}}\\right)^{2} \\left({{\\nu^{(max)}}}\\right)^{2} {{\\phi_O}} + \\left({{\\gamma^{(max)}}}\\right)^{2} \\left({{\\nu^{(max)}}}\\right)^{2} + 2 {{\\gamma^{(max)}}} {{\\lambda}}^{2} {{\\nu^{(max)}}} + 2 {{\\gamma^{(max)}}} {{\\lambda}} \\left({{\\nu^{(max)}}}\\right)^{2} {{\\phi_O}} - 2 {{\\gamma^{(max)}}} {{\\lambda}} \\left({{\\nu^{(max)}}}\\right)^{2} + {{\\lambda}}^{2} \\left({{\\nu^{(max)}}}\\right)^{2}}}{2 {{\\gamma^{(max)}}} {{\\nu^{(max)}}}}$",
      "text/plain": [
       "(-{{\\gamma^{(max)}}}*{{\\lambda}} - {{\\gamma^{(max)}}}*{{\\nu^{(max)}}}*{{\\phi_O}} + {{\\gamma^{(max)}}}*{{\\nu^{(max)}}} + {{\\lambda}}*{{\\nu^{(max)}}} - sqrt(-4*{{K_D}}*{{\\gamma^{(max)}}}*{{\\lambda}}**2*{{\\nu^{(max)}}} + {{\\gamma^{(max)}}}**2*{{\\lambda}}**2 + 2*{{\\gamma^{(max)}}}**2*{{\\lambda}}*{{\\nu^{(max)}}}*{{\\phi_O}} - 2*{{\\gamma^{(max)}}}**2*{{\\lambda}}*{{\\nu^{(max)}}} + {{\\gamma^{(max)}}}**2*{{\\nu^{(max)}}}**2*{{\\phi_O}}**2 - 2*{{\\gamma^{(max)}}}**2*{{\\nu^{(max)}}}**2*{{\\phi_O}} + {{\\gamma^{(max)}}}**2*{{\\nu^{(max)}}}**2 + 2*{{\\gamma^{(max)}}}*{{\\lambda}}**2*{{\\nu^{(max)}}} + 2*{{\\gamma^{(max)}}}*{{\\lambda}}*{{\\nu^{(max)}}}**2*{{\\phi_O}} - 2*{{\\gamma^{(max)}}}*{{\\lambda}}*{{\\nu^{(max)}}}**2 + {{\\lambda}}**2*{{\\nu^{(max)}}}**2))/(2*{{\\gamma^{(max)}}}*{{\\nu^{(max)}}})"
      ]
     },
     "execution_count": 44,
     "metadata": {},
     "output_type": "execute_result"
    }
   ],
   "source": [
    "phi_R_soln.simplify()"
   ]
  },
  {
   "cell_type": "code",
   "execution_count": 22,
   "metadata": {},
   "outputs": [
    {
     "data": {
      "text/plain": [
       "[]"
      ]
     },
     "execution_count": 22,
     "metadata": {},
     "output_type": "execute_result"
    }
   ],
   "source": [
    "# Solve for the optimal allocation of phi_P\n",
    "dlam_dR = sp.diff(lam_soln, phi_R)\n"
   ]
  },
  {
   "cell_type": "code",
   "execution_count": 4,
   "metadata": {},
   "outputs": [],
   "source": [
    "term_a = Kd - 1\n",
    "term_b = nu_max * phi_P + gamma_max * f_a * phi_R\n",
    "term_c = nu_max * phi_P * gamma_max * f_a * phi_R\n",
    "_soln = (-term_b + sp.sqrt(term_b**2 - 4 * term_a * term_c)) / (2 * term_a)\n",
    "_soln = _soln.simplify() \n",
    "\n",
    "# Compute the optimum"
   ]
  },
  {
   "cell_type": "code",
   "execution_count": 31,
   "metadata": {},
   "outputs": [],
   "source": [
    "gamma_max = sp.Symbol('{{\\gamma^{(max)}}}')\n",
    "nu_max = sp.Symbol(r'{{\\nu^{(max)}}}')\n",
    "phi_O = sp.Symbol(r'{{\\phi_O}}')\n",
    "phi_P = (1 - phi_O - phi_R)\n",
    "# phi_P = sp.Symbol('{{\\phi_P}}')\n",
    "phi_R = sp.Symbol('{{\\phi_R}}')\n",
    "Kd = sp.Symbol('{{K_D}}')\n",
    "lam = sp.Symbol('{{\\lambda}}')\n",
    "c_aa = (nu_max * phi_P / lam) - 1\n",
    "gamma = gamma_max /(1 + Kd/c_aa) \n",
    "\n",
    "#%%\n",
    "term_a = Kd - 1\n",
    "term_b = nu_max * phi_P + gamma_max * phi_R\n",
    "term_c = nu_max * phi_P * gamma_max * phi_R\n",
    "_soln = (-term_b + sp.sqrt(term_b**2 + 4 * term_a * term_c)) / (2 * term_a)\n",
    "_soln = _soln.simplify()\n"
   ]
  },
  {
   "cell_type": "code",
   "execution_count": 32,
   "metadata": {},
   "outputs": [
    {
     "data": {
      "text/latex": "$\\displaystyle \\frac{- {{\\gamma^{(max)}}} {{\\phi_R}} + {{\\nu^{(max)}}} \\left({{\\phi_O}} + {{\\phi_R}} - 1\\right) + \\sqrt{- 4 {{\\gamma^{(max)}}} {{\\nu^{(max)}}} {{\\phi_R}} \\left({{K_D}} - 1\\right) \\left({{\\phi_O}} + {{\\phi_R}} - 1\\right) + \\left({{\\gamma^{(max)}}} {{\\phi_R}} - {{\\nu^{(max)}}} \\left({{\\phi_O}} + {{\\phi_R}} - 1\\right)\\right)^{2}}}{2 \\left({{K_D}} - 1\\right)}$",
      "text/plain": [
       "(-{{\\gamma^{(max)}}}*{{\\phi_R}} + {{\\nu^{(max)}}}*({{\\phi_O}} + {{\\phi_R}} - 1) + sqrt(-4*{{\\gamma^{(max)}}}*{{\\nu^{(max)}}}*{{\\phi_R}}*({{K_D}} - 1)*({{\\phi_O}} + {{\\phi_R}} - 1) + ({{\\gamma^{(max)}}}*{{\\phi_R}} - {{\\nu^{(max)}}}*({{\\phi_O}} + {{\\phi_R}} - 1))**2))/(2*({{K_D}} - 1))"
      ]
     },
     "execution_count": 32,
     "metadata": {},
     "output_type": "execute_result"
    }
   ],
   "source": [
    "_soln"
   ]
  },
  {
   "cell_type": "code",
   "execution_count": 33,
   "metadata": {},
   "outputs": [],
   "source": [
    "dlam_dR = sp.diff(_soln, phi_R)\n",
    "opt = sp.solve(dlam_dR, phi_R)"
   ]
  },
  {
   "cell_type": "code",
   "execution_count": 34,
   "metadata": {},
   "outputs": [
    {
     "data": {
      "text/latex": "$\\displaystyle \\frac{\\left({{\\phi_O}} - 1\\right) \\left(- {{\\nu^{(max)}}} \\left(- 2 {{K_D}} {{\\gamma^{(max)}}} + {{\\gamma^{(max)}}} + {{\\nu^{(max)}}}\\right) + \\sqrt{{{K_D}} {{\\gamma^{(max)}}} {{\\nu^{(max)}}}} \\left(- {{\\gamma^{(max)}}} + {{\\nu^{(max)}}}\\right)\\right)}{- 4 {{K_D}} {{\\gamma^{(max)}}} {{\\nu^{(max)}}} + \\left({{\\gamma^{(max)}}}\\right)^{2} + 2 {{\\gamma^{(max)}}} {{\\nu^{(max)}}} + \\left({{\\nu^{(max)}}}\\right)^{2}}$",
      "text/plain": [
       "({{\\phi_O}} - 1)*(-{{\\nu^{(max)}}}*(-2*{{K_D}}*{{\\gamma^{(max)}}} + {{\\gamma^{(max)}}} + {{\\nu^{(max)}}}) + sqrt({{K_D}}*{{\\gamma^{(max)}}}*{{\\nu^{(max)}}})*(-{{\\gamma^{(max)}}} + {{\\nu^{(max)}}}))/(-4*{{K_D}}*{{\\gamma^{(max)}}}*{{\\nu^{(max)}}} + {{\\gamma^{(max)}}}**2 + 2*{{\\gamma^{(max)}}}*{{\\nu^{(max)}}} + {{\\nu^{(max)}}}**2)"
      ]
     },
     "execution_count": 34,
     "metadata": {},
     "output_type": "execute_result"
    }
   ],
   "source": [
    "opt[0]"
   ]
  },
  {
   "cell_type": "code",
   "execution_count": 9,
   "metadata": {},
   "outputs": [
    {
     "data": {
      "text/latex": "$\\displaystyle \\frac{\\left({{\\phi_O}} - 1\\right) \\left(- {{\\nu^{(max)}}} \\left(- 2 {{K_D}} {{\\gamma^{(max)}}} {{f_a}} + {{\\gamma^{(max)}}} {{f_a}} + {{\\nu^{(max)}}}\\right) + \\sqrt{{{K_D}} {{\\gamma^{(max)}}} {{\\nu^{(max)}}} {{f_a}}} \\left({{\\gamma^{(max)}}} {{f_a}} - {{\\nu^{(max)}}}\\right)\\right)}{- 4 {{K_D}} {{\\gamma^{(max)}}} {{\\nu^{(max)}}} {{f_a}} + \\left({{\\gamma^{(max)}}}\\right)^{2} {{f_a}}^{2} + 2 {{\\gamma^{(max)}}} {{\\nu^{(max)}}} {{f_a}} + \\left({{\\nu^{(max)}}}\\right)^{2}}$",
      "text/plain": [
       "({{\\phi_O}} - 1)*(-{{\\nu^{(max)}}}*(-2*{{K_D}}*{{\\gamma^{(max)}}}*{{f_a}} + {{\\gamma^{(max)}}}*{{f_a}} + {{\\nu^{(max)}}}) + sqrt({{K_D}}*{{\\gamma^{(max)}}}*{{\\nu^{(max)}}}*{{f_a}})*({{\\gamma^{(max)}}}*{{f_a}} - {{\\nu^{(max)}}}))/(-4*{{K_D}}*{{\\gamma^{(max)}}}*{{\\nu^{(max)}}}*{{f_a}} + {{\\gamma^{(max)}}}**2*{{f_a}}**2 + 2*{{\\gamma^{(max)}}}*{{\\nu^{(max)}}}*{{f_a}} + {{\\nu^{(max)}}}**2)"
      ]
     },
     "execution_count": 9,
     "metadata": {},
     "output_type": "execute_result"
    }
   ],
   "source": [
    "gamma_max = sp.Symbol('{{\\gamma^{(max)}}}')\n",
    "nu_max = sp.Symbol(r'{{\\nu^{(max)}}}')\n",
    "phi_O = sp.Symbol('{{\\phi_O}}')\n",
    "phi_R = sp.Symbol('{{\\phi_R}}')\n",
    "phi_P = 1 - phi_O - phi_R\n",
    "Kd = sp.Symbol('{{K_D}}')\n",
    "lam = sp.Symbol('{{\\lambda}}')\n",
    "c_aa = (nu_max * phi_P / lam) - 1\n",
    "gamma = gamma_max /(1 + Kd/c_aa) \n",
    "eq = lam - f_a * phi_R * gamma \n",
    "soln = sp.solve(eq, lam)\n",
    "dlam_dR = sp.diff(soln[0], phi_R)\n",
    "opt = sp.solve(dlam_dR, phi_R)\n",
    "opt[1]"
   ]
  },
  {
   "cell_type": "code",
   "execution_count": 10,
   "metadata": {},
   "outputs": [
    {
     "data": {
      "text/latex": "$\\displaystyle \\frac{\\left({{\\phi_O}} - 1\\right) \\left(- {{\\nu^{(max)}}} \\left(- 2 {{K_D}} {{\\gamma^{(max)}}} {{f_a}} + {{\\gamma^{(max)}}} {{f_a}} + {{\\nu^{(max)}}}\\right) + \\sqrt{{{K_D}} {{\\gamma^{(max)}}} {{\\nu^{(max)}}} {{f_a}}} \\left(- {{\\gamma^{(max)}}} {{f_a}} + {{\\nu^{(max)}}}\\right)\\right)}{- 4 {{K_D}} {{\\gamma^{(max)}}} {{\\nu^{(max)}}} {{f_a}} + \\left({{\\gamma^{(max)}}}\\right)^{2} {{f_a}}^{2} + 2 {{\\gamma^{(max)}}} {{\\nu^{(max)}}} {{f_a}} + \\left({{\\nu^{(max)}}}\\right)^{2}}$",
      "text/plain": [
       "({{\\phi_O}} - 1)*(-{{\\nu^{(max)}}}*(-2*{{K_D}}*{{\\gamma^{(max)}}}*{{f_a}} + {{\\gamma^{(max)}}}*{{f_a}} + {{\\nu^{(max)}}}) + sqrt({{K_D}}*{{\\gamma^{(max)}}}*{{\\nu^{(max)}}}*{{f_a}})*(-{{\\gamma^{(max)}}}*{{f_a}} + {{\\nu^{(max)}}}))/(-4*{{K_D}}*{{\\gamma^{(max)}}}*{{\\nu^{(max)}}}*{{f_a}} + {{\\gamma^{(max)}}}**2*{{f_a}}**2 + 2*{{\\gamma^{(max)}}}*{{\\nu^{(max)}}}*{{f_a}} + {{\\nu^{(max)}}}**2)"
      ]
     },
     "execution_count": 10,
     "metadata": {},
     "output_type": "execute_result"
    }
   ],
   "source": [
    "opt[0]"
   ]
  },
  {
   "cell_type": "code",
   "execution_count": null,
   "metadata": {},
   "outputs": [],
   "source": [
    "dlam_dcaa = sp.diff(soln[0], c_aa)\n",
    "dlam_dcaa = "
   ]
  },
  {
   "cell_type": "code",
   "execution_count": 11,
   "metadata": {},
   "outputs": [
    {
     "data": {
      "text/latex": "$\\displaystyle \\frac{- {{\\gamma^{(max)}}} {{\\phi_R}} {{f_a}} + {{\\nu^{(max)}}} {{\\phi_O}} + {{\\nu^{(max)}}} {{\\phi_R}} - {{\\nu^{(max)}}} - \\sqrt{- 4 {{K_D}} {{\\gamma^{(max)}}} {{\\nu^{(max)}}} {{\\phi_O}} {{\\phi_R}} {{f_a}} - 4 {{K_D}} {{\\gamma^{(max)}}} {{\\nu^{(max)}}} {{\\phi_R}}^{2} {{f_a}} + 4 {{K_D}} {{\\gamma^{(max)}}} {{\\nu^{(max)}}} {{\\phi_R}} {{f_a}} + \\left({{\\gamma^{(max)}}}\\right)^{2} {{\\phi_R}}^{2} {{f_a}}^{2} + 2 {{\\gamma^{(max)}}} {{\\nu^{(max)}}} {{\\phi_O}} {{\\phi_R}} {{f_a}} + 2 {{\\gamma^{(max)}}} {{\\nu^{(max)}}} {{\\phi_R}}^{2} {{f_a}} - 2 {{\\gamma^{(max)}}} {{\\nu^{(max)}}} {{\\phi_R}} {{f_a}} + \\left({{\\nu^{(max)}}}\\right)^{2} {{\\phi_O}}^{2} + 2 \\left({{\\nu^{(max)}}}\\right)^{2} {{\\phi_O}} {{\\phi_R}} - 2 \\left({{\\nu^{(max)}}}\\right)^{2} {{\\phi_O}} + \\left({{\\nu^{(max)}}}\\right)^{2} {{\\phi_R}}^{2} - 2 \\left({{\\nu^{(max)}}}\\right)^{2} {{\\phi_R}} + \\left({{\\nu^{(max)}}}\\right)^{2}}}{2 \\left({{K_D}} - 1\\right)}$",
      "text/plain": [
       "(-{{\\gamma^{(max)}}}*{{\\phi_R}}*{{f_a}} + {{\\nu^{(max)}}}*{{\\phi_O}} + {{\\nu^{(max)}}}*{{\\phi_R}} - {{\\nu^{(max)}}} - sqrt(-4*{{K_D}}*{{\\gamma^{(max)}}}*{{\\nu^{(max)}}}*{{\\phi_O}}*{{\\phi_R}}*{{f_a}} - 4*{{K_D}}*{{\\gamma^{(max)}}}*{{\\nu^{(max)}}}*{{\\phi_R}}**2*{{f_a}} + 4*{{K_D}}*{{\\gamma^{(max)}}}*{{\\nu^{(max)}}}*{{\\phi_R}}*{{f_a}} + {{\\gamma^{(max)}}}**2*{{\\phi_R}}**2*{{f_a}}**2 + 2*{{\\gamma^{(max)}}}*{{\\nu^{(max)}}}*{{\\phi_O}}*{{\\phi_R}}*{{f_a}} + 2*{{\\gamma^{(max)}}}*{{\\nu^{(max)}}}*{{\\phi_R}}**2*{{f_a}} - 2*{{\\gamma^{(max)}}}*{{\\nu^{(max)}}}*{{\\phi_R}}*{{f_a}} + {{\\nu^{(max)}}}**2*{{\\phi_O}}**2 + 2*{{\\nu^{(max)}}}**2*{{\\phi_O}}*{{\\phi_R}} - 2*{{\\nu^{(max)}}}**2*{{\\phi_O}} + {{\\nu^{(max)}}}**2*{{\\phi_R}}**2 - 2*{{\\nu^{(max)}}}**2*{{\\phi_R}} + {{\\nu^{(max)}}}**2))/(2*({{K_D}} - 1))"
      ]
     },
     "execution_count": 11,
     "metadata": {},
     "output_type": "execute_result"
    }
   ],
   "source": [
    "soln[0]"
   ]
  },
  {
   "cell_type": "code",
   "execution_count": null,
   "metadata": {},
   "outputs": [],
   "source": []
  }
 ],
 "metadata": {
  "kernelspec": {
   "display_name": "Python 3.8.5 64-bit ('base': conda)",
   "name": "python385jvsc74a57bd0dca0ade3e726a953b501b15e8e990130d2b7799f14cfd9f4271676035ebe5511"
  },
  "language_info": {
   "codemirror_mode": {
    "name": "ipython",
    "version": 3
   },
   "file_extension": ".py",
   "mimetype": "text/x-python",
   "name": "python",
   "nbconvert_exporter": "python",
   "pygments_lexer": "ipython3",
   "version": "3.8.5"
  },
  "orig_nbformat": 2
 },
 "nbformat": 4,
 "nbformat_minor": 2
}