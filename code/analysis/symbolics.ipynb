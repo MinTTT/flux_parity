{
 "cells": [
  {
   "cell_type": "code",
   "execution_count": 1,
   "metadata": {},
   "outputs": [],
   "source": [
    "import sympy as sp \n",
    "import numpy as np  \n",
    "import altair as alt "
   ]
  },
  {
   "cell_type": "markdown",
   "metadata": {},
   "source": [
    "# Solving steady state expression for λ"
   ]
  },
  {
   "cell_type": "code",
   "execution_count": 5,
   "metadata": {},
   "outputs": [],
   "source": [
    "gamma_max = sp.Symbol('{{\\gamma_{max}}}')\n",
    "nu_max = sp.Symbol(r'{{\\nu_{max}}}')\n",
    "Taa = sp.Symbol('{{T_{AA}}}')\n",
    "Taa_star = sp.Symbol('{{T_{AA}^*}}')\n",
    "Kd_Taa = sp.Symbol('{{K_D^{T_{AA}}}}')\n",
    "Kd_Taa_star = sp.Symbol('{{K_D^{T_{AA}^*}}}')\n",
    "tau = sp.Symbol('{{\\tau}}')\n",
    "phiRb = sp.Symbol('{{\\phi_Rb}}')\n",
    "lam = sp.Symbol('{{\\lam}}')\n",
    "M = sp.Symbol('{{M}}')\n",
    "phiRb = sp.Symbol('{{\\phi_{Rb}}}')\n",
    "phiO = sp.Symbol('{{\\phi_{O}}}')\n",
    "phiMb = 1 - phiRb - phiO"
   ]
  },
  {
   "cell_type": "code",
   "execution_count": 11,
   "metadata": {},
   "outputs": [],
   "source": [
    "lam = sp.Symbol('{{\\lambda}}')\n",
    "Nu = nu_max * phiMb\n",
    "TAA = (1 / 2) * (Nu - Kd_Taa + 1 + sp.sqrt((Nu -1)**2 - 2 * Kd_Taa * (1 + Nu - (Kd_Taa/2))))\n",
    "nu = nu_max * TAA / (TAA + Kd_Taa)\n",
    "TAA_star = -1 + (nu * phiMb)/ lam\n",
    "gamma = gamma_max * TAA_star / (TAA_star + Kd_Taa_star)\n",
    "lam_eq = gamma * phiRb - lam"
   ]
  },
  {
   "cell_type": "code",
   "execution_count": 13,
   "metadata": {},
   "outputs": [],
   "source": [
    "lam_soln = sp.solve(lam_eq, lam)"
   ]
  },
  {
   "cell_type": "code",
   "execution_count": null,
   "metadata": {},
   "outputs": [],
   "source": [
    "lam_soln"
   ]
  },
  {
   "cell_type": "code",
   "execution_count": null,
   "metadata": {},
   "outputs": [],
   "source": []
  }
 ],
 "metadata": {
  "interpreter": {
   "hash": "40d3a090f54c6569ab1632332b64b2c03c39dcf918b08424e98f38b5ae0af88f"
  },
  "kernelspec": {
   "display_name": "Python 3.8.11 64-bit ('base': conda)",
   "name": "python3"
  },
  "language_info": {
   "codemirror_mode": {
    "name": "ipython",
    "version": 3
   },
   "file_extension": ".py",
   "mimetype": "text/x-python",
   "name": "python",
   "nbconvert_exporter": "python",
   "pygments_lexer": "ipython3",
   "version": "3.8.11"
  },
  "orig_nbformat": 2
 },
 "nbformat": 4,
 "nbformat_minor": 2
}
